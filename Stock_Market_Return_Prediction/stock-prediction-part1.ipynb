{
 "cells": [
  {
   "cell_type": "code",
   "execution_count": 68,
   "id": "adc477eb",
   "metadata": {
    "ExecuteTime": {
     "end_time": "2022-01-24T12:34:57.722519Z",
     "start_time": "2022-01-24T12:34:56.696220Z"
    }
   },
   "outputs": [],
   "source": [
    "#Import Libraries\n",
    "import numpy as np\n",
    "import pandas as pd\n",
    "import pandas_ta as ta\n",
    "from sklearn.model_selection import train_test_split\n",
    "import numpy as np\n",
    "from sklearn.ensemble import RandomForestRegressor\n",
    "from sklearn import datasets\n",
    "from sklearn.feature_selection import SelectFromModel\n",
    "from sklearn.metrics import accuracy_score"
   ]
  },
  {
   "cell_type": "code",
   "execution_count": 41,
   "id": "6d8e983a",
   "metadata": {
    "ExecuteTime": {
     "end_time": "2022-01-24T12:39:05.259302Z",
     "start_time": "2022-01-24T12:39:05.199901Z"
    }
   },
   "outputs": [
    {
     "name": "stderr",
     "output_type": "stream",
     "text": [
      "/tmp/ipykernel_12536/3620037511.py:2: FutureWarning: In a future version of pandas all arguments of DataFrame.drop except for the argument 'labels' will be keyword-only\n",
      "  df = df.drop('Unnamed: 0', 1)\n"
     ]
    },
    {
     "data": {
      "text/html": [
       "<div>\n",
       "<style scoped>\n",
       "    .dataframe tbody tr th:only-of-type {\n",
       "        vertical-align: middle;\n",
       "    }\n",
       "\n",
       "    .dataframe tbody tr th {\n",
       "        vertical-align: top;\n",
       "    }\n",
       "\n",
       "    .dataframe thead th {\n",
       "        text-align: right;\n",
       "    }\n",
       "</style>\n",
       "<table border=\"1\" class=\"dataframe\">\n",
       "  <thead>\n",
       "    <tr style=\"text-align: right;\">\n",
       "      <th></th>\n",
       "      <th>Index</th>\n",
       "      <th>GSPC.Open</th>\n",
       "      <th>GSPC.High</th>\n",
       "      <th>GSPC.Low</th>\n",
       "      <th>GSPC.Close</th>\n",
       "      <th>GSPC.Volume</th>\n",
       "      <th>GSPC.Adjusted</th>\n",
       "    </tr>\n",
       "  </thead>\n",
       "  <tbody>\n",
       "    <tr>\n",
       "      <th>0</th>\n",
       "      <td>1970-01-02</td>\n",
       "      <td>92.06</td>\n",
       "      <td>93.54</td>\n",
       "      <td>91.79</td>\n",
       "      <td>93.00</td>\n",
       "      <td>8050000</td>\n",
       "      <td>93.00</td>\n",
       "    </tr>\n",
       "    <tr>\n",
       "      <th>1</th>\n",
       "      <td>1970-01-05</td>\n",
       "      <td>93.00</td>\n",
       "      <td>94.25</td>\n",
       "      <td>92.53</td>\n",
       "      <td>93.46</td>\n",
       "      <td>11490000</td>\n",
       "      <td>93.46</td>\n",
       "    </tr>\n",
       "    <tr>\n",
       "      <th>2</th>\n",
       "      <td>1970-01-06</td>\n",
       "      <td>93.46</td>\n",
       "      <td>93.81</td>\n",
       "      <td>92.13</td>\n",
       "      <td>92.82</td>\n",
       "      <td>11460000</td>\n",
       "      <td>92.82</td>\n",
       "    </tr>\n",
       "    <tr>\n",
       "      <th>3</th>\n",
       "      <td>1970-01-07</td>\n",
       "      <td>92.82</td>\n",
       "      <td>93.38</td>\n",
       "      <td>91.93</td>\n",
       "      <td>92.63</td>\n",
       "      <td>10010000</td>\n",
       "      <td>92.63</td>\n",
       "    </tr>\n",
       "    <tr>\n",
       "      <th>4</th>\n",
       "      <td>1970-01-08</td>\n",
       "      <td>92.63</td>\n",
       "      <td>93.47</td>\n",
       "      <td>91.99</td>\n",
       "      <td>92.68</td>\n",
       "      <td>10670000</td>\n",
       "      <td>92.68</td>\n",
       "    </tr>\n",
       "    <tr>\n",
       "      <th>...</th>\n",
       "      <td>...</td>\n",
       "      <td>...</td>\n",
       "      <td>...</td>\n",
       "      <td>...</td>\n",
       "      <td>...</td>\n",
       "      <td>...</td>\n",
       "      <td>...</td>\n",
       "    </tr>\n",
       "    <tr>\n",
       "      <th>10017</th>\n",
       "      <td>2009-09-09</td>\n",
       "      <td>1025.36</td>\n",
       "      <td>1036.34</td>\n",
       "      <td>1023.97</td>\n",
       "      <td>1033.37</td>\n",
       "      <td>5202550000</td>\n",
       "      <td>1033.37</td>\n",
       "    </tr>\n",
       "    <tr>\n",
       "      <th>10018</th>\n",
       "      <td>2009-09-10</td>\n",
       "      <td>1032.99</td>\n",
       "      <td>1044.14</td>\n",
       "      <td>1028.04</td>\n",
       "      <td>1044.14</td>\n",
       "      <td>5191380000</td>\n",
       "      <td>1044.14</td>\n",
       "    </tr>\n",
       "    <tr>\n",
       "      <th>10019</th>\n",
       "      <td>2009-09-11</td>\n",
       "      <td>1043.92</td>\n",
       "      <td>1048.18</td>\n",
       "      <td>1038.40</td>\n",
       "      <td>1042.73</td>\n",
       "      <td>4922600000</td>\n",
       "      <td>1042.73</td>\n",
       "    </tr>\n",
       "    <tr>\n",
       "      <th>10020</th>\n",
       "      <td>2009-09-14</td>\n",
       "      <td>1040.15</td>\n",
       "      <td>1049.74</td>\n",
       "      <td>1035.00</td>\n",
       "      <td>1049.34</td>\n",
       "      <td>4979610000</td>\n",
       "      <td>1049.34</td>\n",
       "    </tr>\n",
       "    <tr>\n",
       "      <th>10021</th>\n",
       "      <td>2009-09-15</td>\n",
       "      <td>1049.03</td>\n",
       "      <td>1056.04</td>\n",
       "      <td>1043.42</td>\n",
       "      <td>1052.63</td>\n",
       "      <td>6185620000</td>\n",
       "      <td>1052.63</td>\n",
       "    </tr>\n",
       "  </tbody>\n",
       "</table>\n",
       "<p>10022 rows × 7 columns</p>\n",
       "</div>"
      ],
      "text/plain": [
       "           Index   GSPC.Open  GSPC.High  GSPC.Low  GSPC.Close  GSPC.Volume  \\\n",
       "0      1970-01-02      92.06      93.54     91.79       93.00      8050000   \n",
       "1      1970-01-05      93.00      94.25     92.53       93.46     11490000   \n",
       "2      1970-01-06      93.46      93.81     92.13       92.82     11460000   \n",
       "3      1970-01-07      92.82      93.38     91.93       92.63     10010000   \n",
       "4      1970-01-08      92.63      93.47     91.99       92.68     10670000   \n",
       "...           ...        ...        ...       ...         ...          ...   \n",
       "10017  2009-09-09    1025.36    1036.34   1023.97     1033.37   5202550000   \n",
       "10018  2009-09-10    1032.99    1044.14   1028.04     1044.14   5191380000   \n",
       "10019  2009-09-11    1043.92    1048.18   1038.40     1042.73   4922600000   \n",
       "10020  2009-09-14    1040.15    1049.74   1035.00     1049.34   4979610000   \n",
       "10021  2009-09-15    1049.03    1056.04   1043.42     1052.63   6185620000   \n",
       "\n",
       "       GSPC.Adjusted  \n",
       "0              93.00  \n",
       "1              93.46  \n",
       "2              92.82  \n",
       "3              92.63  \n",
       "4              92.68  \n",
       "...              ...  \n",
       "10017        1033.37  \n",
       "10018        1044.14  \n",
       "10019        1042.73  \n",
       "10020        1049.34  \n",
       "10021        1052.63  \n",
       "\n",
       "[10022 rows x 7 columns]"
      ]
     },
     "execution_count": 41,
     "metadata": {},
     "output_type": "execute_result"
    }
   ],
   "source": [
    "df = pd.read_csv('sp500.csv')\n",
    "df = df.drop('Unnamed: 0', 1)\n",
    "df"
   ]
  },
  {
   "cell_type": "code",
   "execution_count": 42,
   "id": "656b06aa",
   "metadata": {
    "ExecuteTime": {
     "end_time": "2022-01-24T12:39:15.253333Z",
     "start_time": "2022-01-24T12:39:15.235385Z"
    }
   },
   "outputs": [
    {
     "data": {
      "text/plain": [
       "Index            0\n",
       "GSPC.Open        0\n",
       "GSPC.High        0\n",
       "GSPC.Low         0\n",
       "GSPC.Close       0\n",
       "GSPC.Volume      0\n",
       "GSPC.Adjusted    0\n",
       "dtype: int64"
      ]
     },
     "execution_count": 42,
     "metadata": {},
     "output_type": "execute_result"
    }
   ],
   "source": [
    "#Number of missing values in the dataset\n",
    "df.isna().sum()"
   ]
  },
  {
   "cell_type": "code",
   "execution_count": 43,
   "id": "e831e6c2",
   "metadata": {
    "ExecuteTime": {
     "end_time": "2022-01-23T12:13:52.912315Z",
     "start_time": "2022-01-23T12:13:52.884311Z"
    }
   },
   "outputs": [
    {
     "data": {
      "text/html": [
       "<div>\n",
       "<style scoped>\n",
       "    .dataframe tbody tr th:only-of-type {\n",
       "        vertical-align: middle;\n",
       "    }\n",
       "\n",
       "    .dataframe tbody tr th {\n",
       "        vertical-align: top;\n",
       "    }\n",
       "\n",
       "    .dataframe thead th {\n",
       "        text-align: right;\n",
       "    }\n",
       "</style>\n",
       "<table border=\"1\" class=\"dataframe\">\n",
       "  <thead>\n",
       "    <tr style=\"text-align: right;\">\n",
       "      <th></th>\n",
       "      <th>Index</th>\n",
       "      <th>GSPC.Open</th>\n",
       "      <th>GSPC.High</th>\n",
       "      <th>GSPC.Low</th>\n",
       "      <th>GSPC.Close</th>\n",
       "      <th>GSPC.Volume</th>\n",
       "      <th>GSPC.Adjusted</th>\n",
       "      <th>Daily_average_price</th>\n",
       "    </tr>\n",
       "  </thead>\n",
       "  <tbody>\n",
       "    <tr>\n",
       "      <th>0</th>\n",
       "      <td>1970-01-02</td>\n",
       "      <td>92.06</td>\n",
       "      <td>93.54</td>\n",
       "      <td>91.79</td>\n",
       "      <td>93.00</td>\n",
       "      <td>8050000</td>\n",
       "      <td>93.00</td>\n",
       "      <td>92.776667</td>\n",
       "    </tr>\n",
       "    <tr>\n",
       "      <th>1</th>\n",
       "      <td>1970-01-05</td>\n",
       "      <td>93.00</td>\n",
       "      <td>94.25</td>\n",
       "      <td>92.53</td>\n",
       "      <td>93.46</td>\n",
       "      <td>11490000</td>\n",
       "      <td>93.46</td>\n",
       "      <td>93.413333</td>\n",
       "    </tr>\n",
       "    <tr>\n",
       "      <th>2</th>\n",
       "      <td>1970-01-06</td>\n",
       "      <td>93.46</td>\n",
       "      <td>93.81</td>\n",
       "      <td>92.13</td>\n",
       "      <td>92.82</td>\n",
       "      <td>11460000</td>\n",
       "      <td>92.82</td>\n",
       "      <td>92.920000</td>\n",
       "    </tr>\n",
       "    <tr>\n",
       "      <th>3</th>\n",
       "      <td>1970-01-07</td>\n",
       "      <td>92.82</td>\n",
       "      <td>93.38</td>\n",
       "      <td>91.93</td>\n",
       "      <td>92.63</td>\n",
       "      <td>10010000</td>\n",
       "      <td>92.63</td>\n",
       "      <td>92.646667</td>\n",
       "    </tr>\n",
       "    <tr>\n",
       "      <th>4</th>\n",
       "      <td>1970-01-08</td>\n",
       "      <td>92.63</td>\n",
       "      <td>93.47</td>\n",
       "      <td>91.99</td>\n",
       "      <td>92.68</td>\n",
       "      <td>10670000</td>\n",
       "      <td>92.68</td>\n",
       "      <td>92.713333</td>\n",
       "    </tr>\n",
       "  </tbody>\n",
       "</table>\n",
       "</div>"
      ],
      "text/plain": [
       "       Index   GSPC.Open  GSPC.High  GSPC.Low  GSPC.Close  GSPC.Volume  \\\n",
       "0  1970-01-02      92.06      93.54     91.79       93.00      8050000   \n",
       "1  1970-01-05      93.00      94.25     92.53       93.46     11490000   \n",
       "2  1970-01-06      93.46      93.81     92.13       92.82     11460000   \n",
       "3  1970-01-07      92.82      93.38     91.93       92.63     10010000   \n",
       "4  1970-01-08      92.63      93.47     91.99       92.68     10670000   \n",
       "\n",
       "   GSPC.Adjusted  Daily_average_price  \n",
       "0          93.00            92.776667  \n",
       "1          93.46            93.413333  \n",
       "2          92.82            92.920000  \n",
       "3          92.63            92.646667  \n",
       "4          92.68            92.713333  "
      ]
     },
     "execution_count": 43,
     "metadata": {},
     "output_type": "execute_result"
    }
   ],
   "source": [
    "df['Daily_average_price'] = (df['GSPC.High']+df['GSPC.Low']+df['GSPC.Close'])/3\n",
    "df.head()"
   ]
  },
  {
   "cell_type": "code",
   "execution_count": 44,
   "id": "17e689ce",
   "metadata": {
    "ExecuteTime": {
     "end_time": "2022-01-23T12:13:55.943978Z",
     "start_time": "2022-01-23T12:13:55.912996Z"
    },
    "scrolled": true
   },
   "outputs": [
    {
     "data": {
      "text/html": [
       "<div>\n",
       "<style scoped>\n",
       "    .dataframe tbody tr th:only-of-type {\n",
       "        vertical-align: middle;\n",
       "    }\n",
       "\n",
       "    .dataframe tbody tr th {\n",
       "        vertical-align: top;\n",
       "    }\n",
       "\n",
       "    .dataframe thead th {\n",
       "        text-align: right;\n",
       "    }\n",
       "</style>\n",
       "<table border=\"1\" class=\"dataframe\">\n",
       "  <thead>\n",
       "    <tr style=\"text-align: right;\">\n",
       "      <th></th>\n",
       "      <th>Index</th>\n",
       "      <th>GSPC.Open</th>\n",
       "      <th>GSPC.High</th>\n",
       "      <th>GSPC.Low</th>\n",
       "      <th>GSPC.Close</th>\n",
       "      <th>GSPC.Volume</th>\n",
       "      <th>GSPC.Adjusted</th>\n",
       "      <th>Daily_average_price</th>\n",
       "      <th>Variations</th>\n",
       "    </tr>\n",
       "  </thead>\n",
       "  <tbody>\n",
       "    <tr>\n",
       "      <th>0</th>\n",
       "      <td>1970-01-02</td>\n",
       "      <td>92.06</td>\n",
       "      <td>93.54</td>\n",
       "      <td>91.79</td>\n",
       "      <td>93.00</td>\n",
       "      <td>8050000</td>\n",
       "      <td>93.00</td>\n",
       "      <td>92.776667</td>\n",
       "      <td>-0.002401</td>\n",
       "    </tr>\n",
       "    <tr>\n",
       "      <th>1</th>\n",
       "      <td>1970-01-05</td>\n",
       "      <td>93.00</td>\n",
       "      <td>94.25</td>\n",
       "      <td>92.53</td>\n",
       "      <td>93.46</td>\n",
       "      <td>11490000</td>\n",
       "      <td>93.46</td>\n",
       "      <td>93.413333</td>\n",
       "      <td>-0.000499</td>\n",
       "    </tr>\n",
       "    <tr>\n",
       "      <th>2</th>\n",
       "      <td>1970-01-06</td>\n",
       "      <td>93.46</td>\n",
       "      <td>93.81</td>\n",
       "      <td>92.13</td>\n",
       "      <td>92.82</td>\n",
       "      <td>11460000</td>\n",
       "      <td>92.82</td>\n",
       "      <td>92.920000</td>\n",
       "      <td>0.001077</td>\n",
       "    </tr>\n",
       "    <tr>\n",
       "      <th>3</th>\n",
       "      <td>1970-01-07</td>\n",
       "      <td>92.82</td>\n",
       "      <td>93.38</td>\n",
       "      <td>91.93</td>\n",
       "      <td>92.63</td>\n",
       "      <td>10010000</td>\n",
       "      <td>92.63</td>\n",
       "      <td>92.646667</td>\n",
       "      <td>0.000180</td>\n",
       "    </tr>\n",
       "    <tr>\n",
       "      <th>4</th>\n",
       "      <td>1970-01-08</td>\n",
       "      <td>92.63</td>\n",
       "      <td>93.47</td>\n",
       "      <td>91.99</td>\n",
       "      <td>92.68</td>\n",
       "      <td>10670000</td>\n",
       "      <td>92.68</td>\n",
       "      <td>92.713333</td>\n",
       "      <td>0.000360</td>\n",
       "    </tr>\n",
       "  </tbody>\n",
       "</table>\n",
       "</div>"
      ],
      "text/plain": [
       "       Index   GSPC.Open  GSPC.High  GSPC.Low  GSPC.Close  GSPC.Volume  \\\n",
       "0  1970-01-02      92.06      93.54     91.79       93.00      8050000   \n",
       "1  1970-01-05      93.00      94.25     92.53       93.46     11490000   \n",
       "2  1970-01-06      93.46      93.81     92.13       92.82     11460000   \n",
       "3  1970-01-07      92.82      93.38     91.93       92.63     10010000   \n",
       "4  1970-01-08      92.63      93.47     91.99       92.68     10670000   \n",
       "\n",
       "   GSPC.Adjusted  Daily_average_price  Variations  \n",
       "0          93.00            92.776667   -0.002401  \n",
       "1          93.46            93.413333   -0.000499  \n",
       "2          92.82            92.920000    0.001077  \n",
       "3          92.63            92.646667    0.000180  \n",
       "4          92.68            92.713333    0.000360  "
      ]
     },
     "execution_count": 44,
     "metadata": {},
     "output_type": "execute_result"
    }
   ],
   "source": [
    "df['Variations'] = (df['Daily_average_price'] - df['GSPC.Close']) / df['GSPC.Close']\n",
    "df.head()"
   ]
  },
  {
   "cell_type": "code",
   "execution_count": 45,
   "id": "39dabc40",
   "metadata": {
    "ExecuteTime": {
     "end_time": "2022-01-23T12:13:56.882871Z",
     "start_time": "2022-01-23T12:13:56.868880Z"
    }
   },
   "outputs": [],
   "source": [
    "def T_index(n_days=120, margin=0.025):\n",
    "    T_list = []\n",
    "    for i in df.index:\n",
    "        T = 0\n",
    "        Ci = df['GSPC.Close'].iloc[i]\n",
    "        for j in range (i + 1, n_days + 1):\n",
    "            variation = (df['Daily_average_price'].iloc[j] - Ci) / Ci\n",
    "            if (variation > margin) or (variation < -margin) :\n",
    "                T = T + variation\n",
    "        T_list.append(T)\n",
    "    return(T_list)"
   ]
  },
  {
   "cell_type": "code",
   "execution_count": 46,
   "id": "26701026",
   "metadata": {},
   "outputs": [
    {
     "data": {
      "text/plain": [
       " 0.000000    9908\n",
       "-1.132061       2\n",
       "-6.501097       2\n",
       "-0.220324       2\n",
       "-4.974173       1\n",
       "             ... \n",
       "-5.045288       1\n",
       "-4.057119       1\n",
       "-4.201727       1\n",
       "-4.273246       1\n",
       " 0.087334       1\n",
       "Name: T_index, Length: 112, dtype: int64"
      ]
     },
     "execution_count": 46,
     "metadata": {},
     "output_type": "execute_result"
    }
   ],
   "source": [
    "df['T_index'] = T_index()\n",
    "df['T_index'].value_counts()"
   ]
  },
  {
   "cell_type": "markdown",
   "id": "2e1fd19d",
   "metadata": {},
   "source": [
    "## Feature Selection\n",
    "\n",
    "### Technical Indicators\n",
    "\n",
    "**Average True Range(volatility):** A stock's range is the difference between the high and low prices on any given day. It reveals information about how volatile a stock is. Large ranges indicate high volatility and small ranges indicate low volatility. The range is measured the same way for options and commodities (high minus low) as they are for stocks. The average true range (ATR) is a simple moving average (SMA). Traders can use shorter or longer timeframes based on their trading preferences. Longer timeframes will be slower and will likely lead to fewer trading signals, while shorter timeframes will increase trading activity. \n",
    "\n",
    "**Stochastic Momentum Index(momentum):** The SMI is considered a refinement of the stochastic oscillator. It calculates the distance of the current closing price as it relates to the median of the high/low range of price. The SMI has a normal range of values between +100 and -100. When the present closing price is higher than the median, or midpoint value of the high/low range, the resulting value is positive. When the current closing price is lower than that of the midpoint of the high/low range, the SMI has a negative value. SMI is primarily used by traders or analysts to indicate overbought or oversold conditions in a market. It is used with volume indicators to show if the momentum carries significant selling or buying pressure. Traders also use the SMI as a general trend indicator, interpreting values above 40 as indicative of a bullish trend and negative values greater than -40 as showing a bearish trend.\n",
    "\n",
    "**Welles Wilder's Directional Movement Index(trend):** Wilder’s DMI (ADX) consists of three indicators that measure a trend’s strength and direction. Wilder’s DMI, shows the strength of a trend, either up or down. ADX values help traders identify the strongest and most profitable trends to trade. The values are also important for distinguishing between trending and non-trending conditions. Many traders will use ADX readings above 25 to suggest that the trend is strong enough for trend-trading strategies.\n",
    "\n",
    "**Aroon Indicator(trend):** The Aroon indicator is a technical indicator that is used to identify trend changes in the price of an asset, as well as the strength of that trend. In essence, the indicator measures the time between highs and the time between lows over a time period.  Particularly, the Aroon Oscillator uses aspects of the Aroon Indicator (Aroon Up and Aroon Down) to gauge the strength of a current trend and the likelihood that it will continue.\n",
    "\n",
    "**Bollinger Bands(volatility):** Bollinger Bands are trend lines plotted above and below the SMA of the given stock at a specific standard deviation level. Bollinger Bands are great to observe the volatility of a given stock over a period of time. The volatility of a stock is observed to be lower when the space or distance between the upper and lower band is less. Similarly, when the space or distance between the upper and lower band is more, the stock has a higher level of volatility.  \n",
    "\n",
    "**Chaikin Volatility(volatility):** The Chaikin Volatility Indicator is the difference between two moving averages of a volume weighted accumulation-distribution line. By comparing the spread between a security's high and low prices, it quantifies volatility as a widening of the range between the high and the low price. \n",
    "\n",
    "**Exponential Moving Average:** An exponential moving average (EMA) is a type of moving average (MA) that places a greater weight and significance on the most recent data points. The exponential moving average is also referred to as the exponentially weighted moving average. An exponentially weighted moving average reacts more significantly to recent price changes than a simple moving average (SMA), which applies an equal weight to all observations in the period. \n",
    "\n",
    "**Arm's Ease of Movement(Volume):** Richard Arms' Ease of Movement indicator is a technical study that attempts to quantify a mix of momentum and volume information into one value. The intent is to use this value to discern whether prices are able to rise, or fall, with little resistance in the directional movement. Theoretically, if prices move easily, they will continue to do so for a period of time that can be traded effectively.  \n",
    "\n",
    "**MACD Oscillator:** Moving average convergence divergence (MACD) is a trend-following momentum indicator that shows the relationship between two moving averages of a security’s price. The MACD is calculated by subtracting the 26-period exponential moving average (EMA) from the 12-period EMA. \n",
    "\n",
    "**Money Flow Index:** The Money Flow Index is a volume indicator that helps in measuring the trading pressure on a particular asset. The MFI acts as an oscillator that ranges between 0 and 100. It helps us in signalling whether the stock is in the overbuying or overselling zone as well as divergences between the prices and this indicator helps in predicting a reversal in market trends. A stock is considered to be overbought if the MFI shows a fast price rise to a high level. Similarly, a stock is considered oversold if the MFI indicates a rapid decline in the price to a considerably low level. \n",
    "\n",
    "**Parabolic Stop-and-Reverse(trend):** The parabolic SAR indicator, developed by J. Wells Wilder, is used by traders to determine trend direction and potential reversals in price. The indicator uses a trailing stop and reverse method called \"SAR,\" or stop and reverse, to identify suitable exit and entry points. The parabolic indicator generates buy or sell signals when the position of the dots moves from one side of the asset's price to the other.  \n",
    "\n",
    "**Chande Momentum Oscillator(momentum):** The Chande momentum oscillator is a technical momentum indicator. The formula calculates the difference between the sum of recent gains and the sum of recent losses and then divides the result by the sum of all price movements over the same period. The Chande momentum oscillator is a technical indicator that uses momentum to identify relative strength or weakness in a market.\n",
    "\n",
    "**Relative Strength Index(momentum:)** Relative Strength Index is a momentum indicator measuring and simplifying price movement. It identifies when stock is overbought or oversold. These gives entry and exit signals; but equally valuable, RSI serves as both a confirmation tool and as an early reversal signal that is confirmed by other technical signs."
   ]
  },
  {
   "cell_type": "code",
   "execution_count": 47,
   "id": "9fd8ed9c",
   "metadata": {},
   "outputs": [],
   "source": [
    "# Average True Range indicator\n",
    "atr = df.ta.atr(high='GSPC.High', low='GSPC.LOW', close='GSPC.Close', length=14, append=False)\n",
    "df['ATR'] = atr\n",
    "\n",
    "# Stochastic Momentum Index\n",
    "smi = df.ta.smi(close='GSPC.Close', high='GSPC.High', low='GSPC.LOW', signal=14, append=False)\n",
    "df['SMI'] = smi['SMI_5_20_14']\n",
    "\n",
    "# Average Directional Momentum Index\n",
    "adx = df.ta.adx(high='GSPC.High', low='GSPC.LOW', close='GSPC.Close', length=14, append=False)\n",
    "df['ADX'] = adx['ADX_14']\n",
    "\n",
    "# Aroon Indicator\n",
    "aroon = df.ta.aroon(high='GSPC.High', low='GSPC.LOW', length=14, append=False)\n",
    "df['aroon'] = aroon['AROONOSC_14']\n",
    "\n",
    "# Bollinger Bands\n",
    "bbands = df.ta.bbands(close='GSPC.Close', length=14, append=False)\n",
    "df['Bbands'] = bbands['BBP_14_2.0']\n",
    "\n",
    "# Chaikin Volatility\n",
    "\"\"\"\n",
    "Chaikin Volatility (CV)\n",
    "Source: https://www.marketvolume.com/technicalanalysis/chaikinvolatility.asp\n",
    "Params: \n",
    "    data: pandas DataFrame\n",
    "    ema_periods: period for smoothing Highest High and Lowest Low difference\n",
    "    change_periods: the period for calculating the difference between Highest High and Lowest Low\n",
    "    high_col: the name of the HIGH values column\n",
    "    low_col: the name of the LOW values column\n",
    "    close_col: the name of the CLOSE values column\n",
    "    \n",
    "Returns:\n",
    "    copy of 'data' DataFrame with 'chaikin_volatility' column added\n",
    "\"\"\"\n",
    "def chaikin_volatility(data, ema_periods=14, change_periods=10, high_col='<HIGH>', low_col='<LOW>', close_col='<CLOSE>'):\n",
    "    data['ch_vol_hl'] = data[high_col] - data[low_col]\n",
    "    data['ch_vol_ema'] = data['ch_vol_hl'].ewm(ignore_na=False, min_periods=0, com=ema_periods, adjust=True).mean()\n",
    "    data['chaikin_volatility'] = 0.\n",
    "    \n",
    "    for index,row in data.iterrows():\n",
    "        if index >= change_periods:\n",
    "            \n",
    "            prev_value = data.at[index-change_periods, 'ch_vol_ema']\n",
    "            if prev_value == 0:\n",
    "                #this is to avoid division by zero below\n",
    "                prev_value = 0.0001\n",
    "            data.loc[index,'chaikin_volatility'] = ((row['ch_vol_ema'] - prev_value)/prev_value)\n",
    "            #data.set_value(index, 'chaikin_volatility', ((row['ch_vol_ema'] - prev_value)/prev_value))\n",
    "            \n",
    "    data = data.drop(['ch_vol_hl', 'ch_vol_ema'], axis=1)\n",
    "        \n",
    "    return data\n",
    "\n",
    "chaikinVol = chaikin_volatility(df, high_col='GSPC.High', low_col='GSPC.Low', close_col='GSPC.Close')\n",
    "\n",
    "## Exponential Moving Average\n",
    "period_days = 14\n",
    "def ema(prices, days, smoothing=2):\n",
    "    ema = [sum(prices[:days]) / days]\n",
    "    for price in prices[days:]:\n",
    "        ema.append((price * (smoothing / (1 + days))) + ema[-1] * (1 - (smoothing / (1 + days))))\n",
    "    return ema\n",
    "\n",
    "ema = ema(df['GSPC.Close'], period_days) # Add this line to save EMA values in a list\n",
    "fill_list = []\n",
    "fill_list = [0] * (period_days-1)\n",
    "ema = fill_list + ema\n",
    "len(ema)\n",
    "df['EMA'] = ema\n",
    "\n",
    "# Arm's Ease of Movement Indicator\n",
    "\"\"\"\n",
    "Ease of Movement\n",
    "Source: http://stockcharts.com/school/doku.php?id=chart_school:technical_indicators:ease_of_movement_emv\n",
    "Params: \n",
    "    data: pandas DataFrame\n",
    "    period: period for calculating EMV\n",
    "    high_col: the name of the HIGH values column\n",
    "    low_col: the name of the LOW values column\n",
    "    vol_col: the name of the VOL values column\n",
    "    \n",
    "Returns:\n",
    "    copy of 'data' DataFrame with 'emv' and 'emv_ema_[period]' columns added\n",
    "\"\"\"\n",
    "def ease_of_movement(data, period=14, high_col='<HIGH>', low_col='<LOW>', vol_col='<VOL>'):\n",
    "    for index, row in data.iterrows():\n",
    "        if index > 0:\n",
    "            midpoint_move = (row[high_col] + row[low_col]) / 2 - (data.at[index - 1, high_col] + data.at[index - 1, low_col]) / 2\n",
    "        else:\n",
    "            midpoint_move = 0\n",
    "        \n",
    "        diff = row[high_col] - row[low_col]\n",
    "\n",
    "        if diff == 0:\n",
    "        #this is to avoid division by zero below\n",
    "            diff = 0.000000001\n",
    "            \n",
    "        vol = row[vol_col]\n",
    "        if vol == 0:\n",
    "            vol = 1\n",
    "        box_ratio = (vol / 100000000) / (diff)\n",
    "        emv = midpoint_move / box_ratio\n",
    "        data.loc[index,'emv'] = emv\n",
    "        \n",
    "    data['emv_ema_'+str(period)] = data['emv'].ewm(ignore_na=False, min_periods=0, com=period, adjust=True).mean()\n",
    " \n",
    "    return data\n",
    "\n",
    "ease_of_movement(df, high_col='GSPC.High', low_col='GSPC.Low', vol_col='GSPC.Volume')\n",
    "df = df.drop(['emv_ema_14'], axis=1)  \n",
    "\n",
    "# MACD Oscillator\n",
    "macd = df.ta.macd(close='GSPC.Close', append=False)\n",
    "df['MACD'] = macd['MACD_12_26_9']\n",
    "\n",
    "# Money Flow Index\n",
    "mfi= df.ta.mfi(high='GSPC.High', low='GSPC.Low', close='GSPC.Close', volume='GSPC.Volume', length=14, append=False)\n",
    "#df['MACD'] = macd['MACD_12_26_9']\n",
    "mfi.fillna(0)\n",
    "df['MFI'] = mfi\n",
    "\n",
    "# Parabolic Stop-and-Reverse Indicator\n",
    "psar = df.ta.psar(high='GSPC.High', low='GSPC.LOW', close='GSPC.Close', append=False)\n",
    "df['PSAR'] = psar['PSARl_0.02_0.2'].fillna(psar['PSARs_0.02_0.2'])\n",
    "\n",
    "# Volatility Indicator\n",
    "volat = np.sqrt(1 / 10 * pd.DataFrame.rolling(0.5 * np.log(df.loc[:, 'GSPC.High'] / df.loc[:, 'GSPC.Low']) ** 2 - (2 * np.log(2) - 1) * np.log(df.loc[:, 'GSPC.Close'] / df.loc[:, 'GSPC.Open']) ** 2, window=10).sum())\n",
    "df['Volat'] = volat\n",
    "\n",
    "# RunMean && RunSD\n",
    "def runMean_SD(column_series, window_size):\n",
    "    windows = column_series.rolling(window_size)\n",
    "    # Get the window of series\n",
    "    # of observations of specified window size\n",
    "    windows = column_series.rolling(window_size)\n",
    "  \n",
    "    # Create a series of moving\n",
    "    # averages of each window\n",
    "    mean_moving_averages = windows.mean()\n",
    "    sd_moving_averages = windows.std()  \n",
    "    \n",
    "    # Convert pandas series back to list\n",
    "    mean_moving_averages_list = mean_moving_averages.tolist()\n",
    "    sd_moving_averages_list = sd_moving_averages.tolist()\n",
    "    \n",
    "    # Remove null entries from the list\n",
    "    mean_final_list = mean_moving_averages_list[window_size - 1:]\n",
    "    sd_final_list = sd_moving_averages_list[window_size - 1:]\n",
    "  \n",
    "    return(mean_final_list, sd_final_list)\n",
    "    \n",
    "runMean, runSD = runMean_SD(df['GSPC.Close'], 10)\n",
    "runSD.extend([0, 0, 0, 0, 0, 0, 0, 0, 0])\n",
    "df['runSD'] = runSD\n",
    "runMean.extend([0, 0, 0, 0, 0, 0, 0, 0, 0])\n",
    "df['runMean'] = runMean\n",
    "\n",
    "# Chande Momentum Oscillator\n",
    "cmo = df.ta.cmo(close='GSPC.Close', append=False)\n",
    "df['CMO'] = cmo.fillna(0)\n",
    "\n",
    "# Relative Strength Index\n",
    "rsi = df.ta.rsi(close='GSPC.Close', length=14, append=False)\n",
    "df['RSI'] = rsi.fillna(0)\n",
    "\n",
    "# Delt indicator\n",
    "df['DELT'] = df['GSPC.Close'].pct_change(periods=14)"
   ]
  },
  {
   "cell_type": "code",
   "execution_count": 48,
   "id": "a0dc4fe1",
   "metadata": {},
   "outputs": [],
   "source": [
    "df = df.fillna(0)"
   ]
  },
  {
   "cell_type": "code",
   "execution_count": 49,
   "id": "a6f244ab",
   "metadata": {
    "ExecuteTime": {
     "end_time": "2022-01-23T12:25:12.090508Z",
     "start_time": "2022-01-23T12:25:12.029535Z"
    }
   },
   "outputs": [
    {
     "data": {
      "text/plain": [
       "Index                  0\n",
       "GSPC.Open              0\n",
       "GSPC.High              0\n",
       "GSPC.Low               0\n",
       "GSPC.Close             0\n",
       "GSPC.Volume            0\n",
       "GSPC.Adjusted          0\n",
       "Daily_average_price    0\n",
       "Variations             0\n",
       "T_index                0\n",
       "ATR                    0\n",
       "SMI                    0\n",
       "ADX                    0\n",
       "aroon                  0\n",
       "Bbands                 0\n",
       "ch_vol_hl              0\n",
       "ch_vol_ema             0\n",
       "chaikin_volatility     0\n",
       "EMA                    0\n",
       "emv                    0\n",
       "MACD                   0\n",
       "MFI                    0\n",
       "PSAR                   0\n",
       "Volat                  0\n",
       "runSD                  0\n",
       "runMean                0\n",
       "CMO                    0\n",
       "RSI                    0\n",
       "DELT                   0\n",
       "dtype: int64"
      ]
     },
     "execution_count": 49,
     "metadata": {},
     "output_type": "execute_result"
    }
   ],
   "source": [
    "df.isna().sum()"
   ]
  },
  {
   "cell_type": "markdown",
   "id": "2e3bc698",
   "metadata": {},
   "source": [
    "## Feature Selection\n",
    "\n",
    "### Split the data into 40% test and 60% training"
   ]
  },
  {
   "cell_type": "code",
   "execution_count": 50,
   "id": "59591a0d",
   "metadata": {},
   "outputs": [],
   "source": [
    "X = df.drop(['T_index'], axis=1)\n",
    "y = df['T_index']"
   ]
  },
  {
   "cell_type": "code",
   "execution_count": 56,
   "id": "7e987660",
   "metadata": {},
   "outputs": [],
   "source": [
    "X = X.drop(df.columns[0], axis=1)"
   ]
  },
  {
   "cell_type": "code",
   "execution_count": 57,
   "id": "048e87ff",
   "metadata": {},
   "outputs": [
    {
     "data": {
      "text/plain": [
       "Index(['GSPC.Open', 'GSPC.High', 'GSPC.Low', 'GSPC.Close', 'GSPC.Volume',\n",
       "       'GSPC.Adjusted', 'Daily_average_price', 'Variations', 'ATR', 'SMI',\n",
       "       'ADX', 'aroon', 'Bbands', 'ch_vol_hl', 'ch_vol_ema',\n",
       "       'chaikin_volatility', 'EMA', 'emv', 'MACD', 'MFI', 'PSAR', 'Volat',\n",
       "       'runSD', 'runMean', 'CMO', 'RSI', 'DELT'],\n",
       "      dtype='object')"
      ]
     },
     "execution_count": 57,
     "metadata": {},
     "output_type": "execute_result"
    }
   ],
   "source": [
    "X.columns"
   ]
  },
  {
   "cell_type": "code",
   "execution_count": 74,
   "id": "d22ce97f",
   "metadata": {},
   "outputs": [],
   "source": [
    "X_train, X_test, y_train, y_test = train_test_split(X, y, test_size=0.4, random_state=0)"
   ]
  },
  {
   "cell_type": "code",
   "execution_count": 75,
   "id": "4db91de9",
   "metadata": {},
   "outputs": [
    {
     "data": {
      "text/plain": [
       "array([False, False, False, False,  True, False, False, False,  True,\n",
       "       False,  True, False, False, False, False, False,  True, False,\n",
       "       False,  True, False, False, False, False, False,  True, False])"
      ]
     },
     "execution_count": 75,
     "metadata": {},
     "output_type": "execute_result"
    }
   ],
   "source": [
    "sel = SelectFromModel(RandomForestRegressor(n_estimators = 100))\n",
    "sel.fit(X_train, y_train)\n",
    "\n",
    "sel.get_support()"
   ]
  },
  {
   "cell_type": "code",
   "execution_count": 71,
   "id": "f2427395",
   "metadata": {},
   "outputs": [
    {
     "name": "stdout",
     "output_type": "stream",
     "text": [
      "Index(['GSPC.Volume', 'ATR', 'ADX', 'EMA', 'MFI', 'RSI'], dtype='object')\n"
     ]
    }
   ],
   "source": [
    "selected_feat= X_train.columns[(sel.get_support())]\n",
    "print(selected_feat)"
   ]
  },
  {
   "cell_type": "markdown",
   "id": "3aa78b90",
   "metadata": {},
   "source": [
    "## Technical Definitions\n",
    "\n",
    "A **stop-loss order** is an order placed with a broker to buy or sell a security when it reaches a certain price.  Stop-loss orders are designed to limit an investor’s loss on a position in a security.  \n",
    "\n",
    "A **swing low** is created when a low is lower than any other surrounding prices in a given period of time."
   ]
  }
 ],
 "metadata": {
  "kernelspec": {
   "display_name": "Python 3 (ipykernel)",
   "language": "python",
   "name": "python3"
  },
  "language_info": {
   "codemirror_mode": {
    "name": "ipython",
    "version": 3
   },
   "file_extension": ".py",
   "mimetype": "text/x-python",
   "name": "python",
   "nbconvert_exporter": "python",
   "pygments_lexer": "ipython3",
   "version": "3.9.7"
  },
  "latex_envs": {
   "LaTeX_envs_menu_present": true,
   "autoclose": false,
   "autocomplete": true,
   "bibliofile": "biblio.bib",
   "cite_by": "apalike",
   "current_citInitial": 1,
   "eqLabelWithNumbers": true,
   "eqNumInitial": 1,
   "hotkeys": {
    "equation": "Ctrl-E",
    "itemize": "Ctrl-I"
   },
   "labels_anchors": false,
   "latex_user_defs": false,
   "report_style_numbering": false,
   "user_envs_cfg": false
  },
  "toc": {
   "base_numbering": 1,
   "nav_menu": {},
   "number_sections": true,
   "sideBar": true,
   "skip_h1_title": false,
   "title_cell": "Table of Contents",
   "title_sidebar": "Contents",
   "toc_cell": false,
   "toc_position": {},
   "toc_section_display": true,
   "toc_window_display": false
  },
  "varInspector": {
   "cols": {
    "lenName": 16,
    "lenType": 16,
    "lenVar": 40
   },
   "kernels_config": {
    "python": {
     "delete_cmd_postfix": "",
     "delete_cmd_prefix": "del ",
     "library": "var_list.py",
     "varRefreshCmd": "print(var_dic_list())"
    },
    "r": {
     "delete_cmd_postfix": ") ",
     "delete_cmd_prefix": "rm(",
     "library": "var_list.r",
     "varRefreshCmd": "cat(var_dic_list()) "
    }
   },
   "types_to_exclude": [
    "module",
    "function",
    "builtin_function_or_method",
    "instance",
    "_Feature"
   ],
   "window_display": false
  }
 },
 "nbformat": 4,
 "nbformat_minor": 5
}
