{
 "cells": [
  {
   "cell_type": "markdown",
   "metadata": {},
   "source": [
    "**Tripadvisor Hotel Review**"
   ]
  },
  {
   "cell_type": "markdown",
   "metadata": {},
   "source": [
    "**Libraries**"
   ]
  },
  {
   "cell_type": "code",
   "execution_count": 65,
   "metadata": {
    "ExecuteTime": {
     "end_time": "2021-05-25T08:28:29.087005Z",
     "start_time": "2021-05-25T08:28:29.065031Z"
    }
   },
   "outputs": [],
   "source": [
    "import pandas as pd\n",
    "import numpy as np\n",
    "from sklearn.preprocessing import OrdinalEncoder \n",
    "import matplotlib.pyplot as plt\n",
    "import seaborn as sns\n",
    "from scipy.stats import pearsonr\n",
    "from sklearn.model_selection import train_test_split\n",
    "from sklearn.linear_model import LogisticRegression\n",
    "from sklearn import metrics\n",
    "from sklearn.svm import LinearSVC\n",
    "from sklearn.ensemble import RandomForestClassifier\n",
    "from sklearn.metrics import accuracy_score\n",
    "from sklearn.metrics import confusion_matrix\n",
    "from sklearn.ensemble import GradientBoostingClassifier\n",
    "from imblearn import over_sampling\n",
    "from sklearn.naive_bayes import MultinomialNB\n",
    "from imblearn.over_sampling import SMOTE\n",
    "from imblearn.over_sampling import RandomOverSampler\n",
    "import matplotlib.pyplot as plt \n",
    "import matplotlib"
   ]
  },
  {
   "cell_type": "markdown",
   "metadata": {},
   "source": [
    "**Load data**"
   ]
  },
  {
   "cell_type": "code",
   "execution_count": 2,
   "metadata": {
    "ExecuteTime": {
     "end_time": "2021-05-25T06:26:46.659844Z",
     "start_time": "2021-05-25T06:26:46.395580Z"
    }
   },
   "outputs": [
    {
     "data": {
      "text/html": [
       "<div>\n",
       "<style scoped>\n",
       "    .dataframe tbody tr th:only-of-type {\n",
       "        vertical-align: middle;\n",
       "    }\n",
       "\n",
       "    .dataframe tbody tr th {\n",
       "        vertical-align: top;\n",
       "    }\n",
       "\n",
       "    .dataframe thead th {\n",
       "        text-align: right;\n",
       "    }\n",
       "</style>\n",
       "<table border=\"1\" class=\"dataframe\">\n",
       "  <thead>\n",
       "    <tr style=\"text-align: right;\">\n",
       "      <th></th>\n",
       "      <th>Review</th>\n",
       "      <th>Rating</th>\n",
       "    </tr>\n",
       "  </thead>\n",
       "  <tbody>\n",
       "    <tr>\n",
       "      <th>0</th>\n",
       "      <td>nice hotel expensive parking got good deal sta...</td>\n",
       "      <td>4</td>\n",
       "    </tr>\n",
       "    <tr>\n",
       "      <th>1</th>\n",
       "      <td>ok nothing special charge diamond member hilto...</td>\n",
       "      <td>2</td>\n",
       "    </tr>\n",
       "    <tr>\n",
       "      <th>2</th>\n",
       "      <td>nice rooms not 4* experience hotel monaco seat...</td>\n",
       "      <td>3</td>\n",
       "    </tr>\n",
       "    <tr>\n",
       "      <th>3</th>\n",
       "      <td>unique, great stay, wonderful time hotel monac...</td>\n",
       "      <td>5</td>\n",
       "    </tr>\n",
       "    <tr>\n",
       "      <th>4</th>\n",
       "      <td>great stay great stay, went seahawk game aweso...</td>\n",
       "      <td>5</td>\n",
       "    </tr>\n",
       "  </tbody>\n",
       "</table>\n",
       "</div>"
      ],
      "text/plain": [
       "                                              Review  Rating\n",
       "0  nice hotel expensive parking got good deal sta...       4\n",
       "1  ok nothing special charge diamond member hilto...       2\n",
       "2  nice rooms not 4* experience hotel monaco seat...       3\n",
       "3  unique, great stay, wonderful time hotel monac...       5\n",
       "4  great stay great stay, went seahawk game aweso...       5"
      ]
     },
     "execution_count": 2,
     "metadata": {},
     "output_type": "execute_result"
    }
   ],
   "source": [
    "data = pd.read_csv(\"tripadvisor_hotel_reviews.csv\")\n",
    "data.head()"
   ]
  },
  {
   "cell_type": "markdown",
   "metadata": {},
   "source": [
    "**Missing values**"
   ]
  },
  {
   "cell_type": "code",
   "execution_count": 3,
   "metadata": {
    "ExecuteTime": {
     "end_time": "2021-05-25T06:26:46.755588Z",
     "start_time": "2021-05-25T06:26:46.693725Z"
    }
   },
   "outputs": [
    {
     "name": "stdout",
     "output_type": "stream",
     "text": [
      "number of missing values 0\n",
      "number of duplicated rows 0\n"
     ]
    }
   ],
   "source": [
    "num_of_missing=data.isnull().sum(axis = 0)\n",
    "\n",
    "print(\"number of missing values\",num_of_missing.sum())\n",
    "num_of_duplicated=data[data.duplicated()]\n",
    "print(\"number of duplicated rows\",num_of_duplicated.shape[0])"
   ]
  },
  {
   "cell_type": "markdown",
   "metadata": {},
   "source": [
    "**Mining Opinion from Ratings**"
   ]
  },
  {
   "cell_type": "code",
   "execution_count": 4,
   "metadata": {
    "ExecuteTime": {
     "end_time": "2021-05-25T06:27:03.989122Z",
     "start_time": "2021-05-25T06:26:53.738707Z"
    }
   },
   "outputs": [
    {
     "data": {
      "text/html": [
       "<div>\n",
       "<style scoped>\n",
       "    .dataframe tbody tr th:only-of-type {\n",
       "        vertical-align: middle;\n",
       "    }\n",
       "\n",
       "    .dataframe tbody tr th {\n",
       "        vertical-align: top;\n",
       "    }\n",
       "\n",
       "    .dataframe thead th {\n",
       "        text-align: right;\n",
       "    }\n",
       "</style>\n",
       "<table border=\"1\" class=\"dataframe\">\n",
       "  <thead>\n",
       "    <tr style=\"text-align: right;\">\n",
       "      <th></th>\n",
       "      <th>Review</th>\n",
       "      <th>Rating</th>\n",
       "    </tr>\n",
       "  </thead>\n",
       "  <tbody>\n",
       "    <tr>\n",
       "      <th>0</th>\n",
       "      <td>nice hotel expensive parking got good deal sta...</td>\n",
       "      <td>1</td>\n",
       "    </tr>\n",
       "    <tr>\n",
       "      <th>1</th>\n",
       "      <td>ok nothing special charge diamond member hilto...</td>\n",
       "      <td>0</td>\n",
       "    </tr>\n",
       "    <tr>\n",
       "      <th>2</th>\n",
       "      <td>unique, great stay, wonderful time hotel monac...</td>\n",
       "      <td>1</td>\n",
       "    </tr>\n",
       "    <tr>\n",
       "      <th>3</th>\n",
       "      <td>great stay great stay, went seahawk game aweso...</td>\n",
       "      <td>1</td>\n",
       "    </tr>\n",
       "    <tr>\n",
       "      <th>4</th>\n",
       "      <td>love monaco staff husband stayed hotel crazy w...</td>\n",
       "      <td>1</td>\n",
       "    </tr>\n",
       "    <tr>\n",
       "      <th>...</th>\n",
       "      <td>...</td>\n",
       "      <td>...</td>\n",
       "    </tr>\n",
       "    <tr>\n",
       "      <th>18302</th>\n",
       "      <td>best kept secret 3rd time staying charm, not 5...</td>\n",
       "      <td>1</td>\n",
       "    </tr>\n",
       "    <tr>\n",
       "      <th>18303</th>\n",
       "      <td>great location price view hotel great quick pl...</td>\n",
       "      <td>1</td>\n",
       "    </tr>\n",
       "    <tr>\n",
       "      <th>18304</th>\n",
       "      <td>ok just looks nice modern outside, desk staff ...</td>\n",
       "      <td>0</td>\n",
       "    </tr>\n",
       "    <tr>\n",
       "      <th>18305</th>\n",
       "      <td>hotel theft ruined vacation hotel opened sept ...</td>\n",
       "      <td>0</td>\n",
       "    </tr>\n",
       "    <tr>\n",
       "      <th>18306</th>\n",
       "      <td>people talking, ca n't believe excellent ratin...</td>\n",
       "      <td>0</td>\n",
       "    </tr>\n",
       "  </tbody>\n",
       "</table>\n",
       "<p>18307 rows × 2 columns</p>\n",
       "</div>"
      ],
      "text/plain": [
       "                                                  Review  Rating\n",
       "0      nice hotel expensive parking got good deal sta...       1\n",
       "1      ok nothing special charge diamond member hilto...       0\n",
       "2      unique, great stay, wonderful time hotel monac...       1\n",
       "3      great stay great stay, went seahawk game aweso...       1\n",
       "4      love monaco staff husband stayed hotel crazy w...       1\n",
       "...                                                  ...     ...\n",
       "18302  best kept secret 3rd time staying charm, not 5...       1\n",
       "18303  great location price view hotel great quick pl...       1\n",
       "18304  ok just looks nice modern outside, desk staff ...       0\n",
       "18305  hotel theft ruined vacation hotel opened sept ...       0\n",
       "18306  people talking, ca n't believe excellent ratin...       0\n",
       "\n",
       "[18307 rows x 2 columns]"
      ]
     },
     "execution_count": 4,
     "metadata": {},
     "output_type": "execute_result"
    }
   ],
   "source": [
    "for index,row in data.iterrows():\n",
    "    if row['Rating']==3:\n",
    "        data=data.drop(index)\n",
    "        \n",
    "    elif row['Rating']>3:#positive comment\n",
    "        data.loc[index,'Rating']=1\n",
    "        \n",
    "    else:#negative comment\n",
    "        data.loc[index,'Rating']=0\n",
    "\n",
    "data = data.reset_index(drop=True)\n",
    "data"
   ]
  },
  {
   "cell_type": "markdown",
   "metadata": {},
   "source": [
    "**Checking for Imbalanced Data**"
   ]
  },
  {
   "cell_type": "code",
   "execution_count": 5,
   "metadata": {
    "ExecuteTime": {
     "end_time": "2021-05-25T06:27:33.996901Z",
     "start_time": "2021-05-25T06:27:33.930257Z"
    }
   },
   "outputs": [
    {
     "data": {
      "text/plain": [
       "1    82.443874\n",
       "0    17.556126\n",
       "Name: Rating, dtype: float64"
      ]
     },
     "execution_count": 5,
     "metadata": {},
     "output_type": "execute_result"
    }
   ],
   "source": [
    "data['Rating'].value_counts(normalize=True) * 100"
   ]
  },
  {
   "cell_type": "markdown",
   "metadata": {},
   "source": [
    "**Data cleaning**"
   ]
  },
  {
   "cell_type": "code",
   "execution_count": 6,
   "metadata": {
    "ExecuteTime": {
     "end_time": "2021-05-25T06:27:45.118028Z",
     "start_time": "2021-05-25T06:27:40.468989Z"
    }
   },
   "outputs": [],
   "source": [
    "import re\n",
    "REPLACE_NO_SPACE = re.compile(\"(\\.)|(\\;)|(\\:)|(\\!)|(\\')|(\\?)|(\\,)|(\\\")|(\\()|(\\))|(\\[)|(\\])|(\\d+)\")\n",
    "REPLACE_WITH_SPACE = re.compile(\"(<br\\s*/><br\\s*/>)|(\\-)|(\\/)|(\\_)\")\n",
    "\n",
    "\n",
    "def preprocess_reviews(reviews):\n",
    "    reviews = [REPLACE_NO_SPACE.sub(\"\", line.lower()) for line in reviews]\n",
    "    reviews = [REPLACE_WITH_SPACE.sub(\" \", line) for line in reviews]\n",
    "\n",
    "    return reviews\n",
    "\n",
    "\n",
    "data[\"Review\"] = preprocess_reviews(data[\"Review\"])\n",
    "#data.head()"
   ]
  },
  {
   "cell_type": "markdown",
   "metadata": {},
   "source": [
    "**Remove stopwords**"
   ]
  },
  {
   "cell_type": "code",
   "execution_count": 7,
   "metadata": {
    "ExecuteTime": {
     "end_time": "2021-05-25T06:27:55.315500Z",
     "start_time": "2021-05-25T06:27:48.363222Z"
    }
   },
   "outputs": [
    {
     "data": {
      "text/html": [
       "<div>\n",
       "<style scoped>\n",
       "    .dataframe tbody tr th:only-of-type {\n",
       "        vertical-align: middle;\n",
       "    }\n",
       "\n",
       "    .dataframe tbody tr th {\n",
       "        vertical-align: top;\n",
       "    }\n",
       "\n",
       "    .dataframe thead th {\n",
       "        text-align: right;\n",
       "    }\n",
       "</style>\n",
       "<table border=\"1\" class=\"dataframe\">\n",
       "  <thead>\n",
       "    <tr style=\"text-align: right;\">\n",
       "      <th></th>\n",
       "      <th>Review</th>\n",
       "      <th>Rating</th>\n",
       "    </tr>\n",
       "  </thead>\n",
       "  <tbody>\n",
       "    <tr>\n",
       "      <th>0</th>\n",
       "      <td>nice hotel expensive parking got good deal sta...</td>\n",
       "      <td>1</td>\n",
       "    </tr>\n",
       "    <tr>\n",
       "      <th>1</th>\n",
       "      <td>ok nothing special charge diamond member hilto...</td>\n",
       "      <td>0</td>\n",
       "    </tr>\n",
       "    <tr>\n",
       "      <th>2</th>\n",
       "      <td>unique great stay wonderful time hotel monaco ...</td>\n",
       "      <td>1</td>\n",
       "    </tr>\n",
       "    <tr>\n",
       "      <th>3</th>\n",
       "      <td>great stay great stay went seahawk game awesom...</td>\n",
       "      <td>1</td>\n",
       "    </tr>\n",
       "    <tr>\n",
       "      <th>4</th>\n",
       "      <td>love monaco staff husband stayed hotel crazy w...</td>\n",
       "      <td>1</td>\n",
       "    </tr>\n",
       "    <tr>\n",
       "      <th>...</th>\n",
       "      <td>...</td>\n",
       "      <td>...</td>\n",
       "    </tr>\n",
       "    <tr>\n",
       "      <th>18302</th>\n",
       "      <td>best kept secret rd time staying charm star ca...</td>\n",
       "      <td>1</td>\n",
       "    </tr>\n",
       "    <tr>\n",
       "      <th>18303</th>\n",
       "      <td>great location price view hotel great quick pl...</td>\n",
       "      <td>1</td>\n",
       "    </tr>\n",
       "    <tr>\n",
       "      <th>18304</th>\n",
       "      <td>ok looks nice modern outside desk staff nt par...</td>\n",
       "      <td>0</td>\n",
       "    </tr>\n",
       "    <tr>\n",
       "      <th>18305</th>\n",
       "      <td>hotel theft ruined vacation hotel opened sept ...</td>\n",
       "      <td>0</td>\n",
       "    </tr>\n",
       "    <tr>\n",
       "      <th>18306</th>\n",
       "      <td>people talking ca nt believe excellent ratings...</td>\n",
       "      <td>0</td>\n",
       "    </tr>\n",
       "  </tbody>\n",
       "</table>\n",
       "<p>18307 rows × 2 columns</p>\n",
       "</div>"
      ],
      "text/plain": [
       "                                                  Review  Rating\n",
       "0      nice hotel expensive parking got good deal sta...       1\n",
       "1      ok nothing special charge diamond member hilto...       0\n",
       "2      unique great stay wonderful time hotel monaco ...       1\n",
       "3      great stay great stay went seahawk game awesom...       1\n",
       "4      love monaco staff husband stayed hotel crazy w...       1\n",
       "...                                                  ...     ...\n",
       "18302  best kept secret rd time staying charm star ca...       1\n",
       "18303  great location price view hotel great quick pl...       1\n",
       "18304  ok looks nice modern outside desk staff nt par...       0\n",
       "18305  hotel theft ruined vacation hotel opened sept ...       0\n",
       "18306  people talking ca nt believe excellent ratings...       0\n",
       "\n",
       "[18307 rows x 2 columns]"
      ]
     },
     "execution_count": 7,
     "metadata": {},
     "output_type": "execute_result"
    }
   ],
   "source": [
    "#import nltk\n",
    "#nltk.download('stopwords')\n",
    "from nltk.corpus import stopwords\n",
    "\n",
    "english_stop_words = stopwords.words('english')\n",
    "def remove_stop_words(corpus):\n",
    "    removed_stop_words = []\n",
    "    for review in corpus:\n",
    "        removed_stop_words.append(\n",
    "            ' '.join([word for word in review.split()\n",
    "                      if word not in english_stop_words])\n",
    "        )\n",
    "    return removed_stop_words\n",
    "\n",
    "data[\"Review\"] = remove_stop_words(data[\"Review\"])\n",
    "data"
   ]
  },
  {
   "cell_type": "markdown",
   "metadata": {},
   "source": [
    "**Normalization to its true root**"
   ]
  },
  {
   "cell_type": "code",
   "execution_count": 8,
   "metadata": {
    "ExecuteTime": {
     "end_time": "2021-05-25T06:31:40.696324Z",
     "start_time": "2021-05-25T06:27:59.775756Z"
    }
   },
   "outputs": [
    {
     "data": {
      "text/html": [
       "<div>\n",
       "<style scoped>\n",
       "    .dataframe tbody tr th:only-of-type {\n",
       "        vertical-align: middle;\n",
       "    }\n",
       "\n",
       "    .dataframe tbody tr th {\n",
       "        vertical-align: top;\n",
       "    }\n",
       "\n",
       "    .dataframe thead th {\n",
       "        text-align: right;\n",
       "    }\n",
       "</style>\n",
       "<table border=\"1\" class=\"dataframe\">\n",
       "  <thead>\n",
       "    <tr style=\"text-align: right;\">\n",
       "      <th></th>\n",
       "      <th>Review</th>\n",
       "      <th>Rating</th>\n",
       "    </tr>\n",
       "  </thead>\n",
       "  <tbody>\n",
       "    <tr>\n",
       "      <th>0</th>\n",
       "      <td>nice hotel expens park get good deal stay hote...</td>\n",
       "      <td>1</td>\n",
       "    </tr>\n",
       "    <tr>\n",
       "      <th>1</th>\n",
       "      <td>ok noth special charg diamond member hilton de...</td>\n",
       "      <td>0</td>\n",
       "    </tr>\n",
       "    <tr>\n",
       "      <th>2</th>\n",
       "      <td>uniqu great stay wonder time hotel monaco loca...</td>\n",
       "      <td>1</td>\n",
       "    </tr>\n",
       "    <tr>\n",
       "      <th>3</th>\n",
       "      <td>great stay great stay go seahawk game awesom d...</td>\n",
       "      <td>1</td>\n",
       "    </tr>\n",
       "    <tr>\n",
       "      <th>4</th>\n",
       "      <td>love monaco staff husband stay hotel crazi wee...</td>\n",
       "      <td>1</td>\n",
       "    </tr>\n",
       "    <tr>\n",
       "      <th>...</th>\n",
       "      <td>...</td>\n",
       "      <td>...</td>\n",
       "    </tr>\n",
       "    <tr>\n",
       "      <th>18302</th>\n",
       "      <td>best kept secret rd time stay charm star ca nt...</td>\n",
       "      <td>1</td>\n",
       "    </tr>\n",
       "    <tr>\n",
       "      <th>18303</th>\n",
       "      <td>great locat price view hotel great quick place...</td>\n",
       "      <td>1</td>\n",
       "    </tr>\n",
       "    <tr>\n",
       "      <th>18304</th>\n",
       "      <td>ok look nice modern outsid desk staff nt parti...</td>\n",
       "      <td>0</td>\n",
       "    </tr>\n",
       "    <tr>\n",
       "      <th>18305</th>\n",
       "      <td>hotel theft ruin vacat hotel open sept guest w...</td>\n",
       "      <td>0</td>\n",
       "    </tr>\n",
       "    <tr>\n",
       "      <th>18306</th>\n",
       "      <td>peopl talk ca nt believ excel rate hotel nt ye...</td>\n",
       "      <td>0</td>\n",
       "    </tr>\n",
       "  </tbody>\n",
       "</table>\n",
       "<p>18307 rows × 2 columns</p>\n",
       "</div>"
      ],
      "text/plain": [
       "                                                  Review  Rating\n",
       "0      nice hotel expens park get good deal stay hote...       1\n",
       "1      ok noth special charg diamond member hilton de...       0\n",
       "2      uniqu great stay wonder time hotel monaco loca...       1\n",
       "3      great stay great stay go seahawk game awesom d...       1\n",
       "4      love monaco staff husband stay hotel crazi wee...       1\n",
       "...                                                  ...     ...\n",
       "18302  best kept secret rd time stay charm star ca nt...       1\n",
       "18303  great locat price view hotel great quick place...       1\n",
       "18304  ok look nice modern outsid desk staff nt parti...       0\n",
       "18305  hotel theft ruin vacat hotel open sept guest w...       0\n",
       "18306  peopl talk ca nt believ excel rate hotel nt ye...       0\n",
       "\n",
       "[18307 rows x 2 columns]"
      ]
     },
     "execution_count": 8,
     "metadata": {},
     "output_type": "execute_result"
    }
   ],
   "source": [
    "import nltk\n",
    "#nltk.download()\n",
    "#nltk.download('averaged_perceptron_tagger')\n",
    "from nltk.tokenize import word_tokenize\n",
    "from nltk import pos_tag\n",
    "from nltk.stem import PorterStemmer\n",
    "porter=PorterStemmer()\n",
    "from nltk.stem.wordnet import WordNetLemmatizer\n",
    "\n",
    "#nltk.download('punkt')\n",
    "lemmatizer = WordNetLemmatizer()\n",
    "\n",
    "from nltk.corpus import wordnet\n",
    "    \n",
    "    \n",
    "from nltk.tag.perceptron import PerceptronTagger\n",
    "tagger = PerceptronTagger()\n",
    "\n",
    "def stemSentence(sentence):\n",
    "    stem_sentence=[]\n",
    "    \n",
    "    for word, tag in tagger.tag(word_tokenize(sentence)):\n",
    "        wntag = tag[0].lower()\n",
    "        wntag = wntag if wntag in ['a', 'r', 'n', 'v'] else 'n'\n",
    "        word=lemmatizer.lemmatize(word,wntag)\n",
    "        stem_sentence.append(porter.stem(word))\n",
    "        #stem_sentence.append(\" \")\n",
    "        \n",
    "    return \" \".join(stem_sentence)\n",
    "\n",
    "\n",
    "for index,row in data.iterrows():\n",
    "    review = stemSentence(row['Review'])\n",
    "    data.loc[index,'Review'] = review\n",
    "    \n",
    "    \n",
    "data    "
   ]
  },
  {
   "cell_type": "markdown",
   "metadata": {},
   "source": [
    "**Split the data**"
   ]
  },
  {
   "cell_type": "code",
   "execution_count": 9,
   "metadata": {
    "ExecuteTime": {
     "end_time": "2021-05-25T06:31:46.002420Z",
     "start_time": "2021-05-25T06:31:45.983471Z"
    }
   },
   "outputs": [],
   "source": [
    "X_train, X_test, y_train, y_test = train_test_split(data[\"Review\"], data[\"Rating\"], test_size = 0.3)"
   ]
  },
  {
   "cell_type": "markdown",
   "metadata": {},
   "source": [
    "**Vectorization binary 3-grams**"
   ]
  },
  {
   "cell_type": "code",
   "execution_count": 10,
   "metadata": {
    "ExecuteTime": {
     "end_time": "2021-05-25T06:32:06.586561Z",
     "start_time": "2021-05-25T06:31:47.952804Z"
    }
   },
   "outputs": [],
   "source": [
    "from sklearn.feature_extraction.text import CountVectorizer\n",
    "\n",
    "ngram_vectorizer = CountVectorizer(binary=True, ngram_range=(1, 3))\n",
    "\n",
    "ngram_vectorizer.fit(X_train)\n",
    "ngram_vectorizer.fit(X_test)\n",
    "binary_train = ngram_vectorizer.transform(X_train)\n",
    "binary_test = ngram_vectorizer.transform(X_test)"
   ]
  },
  {
   "cell_type": "markdown",
   "metadata": {},
   "source": [
    "**Vectorization word-count 3-grams**"
   ]
  },
  {
   "cell_type": "code",
   "execution_count": 11,
   "metadata": {
    "ExecuteTime": {
     "end_time": "2021-05-25T06:32:25.158892Z",
     "start_time": "2021-05-25T06:32:06.747037Z"
    }
   },
   "outputs": [],
   "source": [
    "ngram_vectorizer = CountVectorizer(binary=False, ngram_range=(1, 3))\n",
    "\n",
    "ngram_vectorizer.fit(X_train)\n",
    "ngram_vectorizer.fit(X_test)\n",
    "count_train = ngram_vectorizer.transform(X_train)\n",
    "count_test = ngram_vectorizer.transform(X_test)"
   ]
  },
  {
   "cell_type": "markdown",
   "metadata": {},
   "source": [
    "**Vectorization tf-idf 3-grams**"
   ]
  },
  {
   "cell_type": "code",
   "execution_count": 12,
   "metadata": {
    "ExecuteTime": {
     "end_time": "2021-05-25T06:32:45.327208Z",
     "start_time": "2021-05-25T06:32:25.384654Z"
    }
   },
   "outputs": [],
   "source": [
    "from sklearn.feature_extraction.text import TfidfVectorizer\n",
    "\n",
    "vectorizer = TfidfVectorizer(ngram_range=(1,3))\n",
    "\n",
    "vectorizer.fit(X_train)\n",
    "vectorizer.fit(X_test)\n",
    "tf_idf_train = vectorizer.transform(X_train)\n",
    "tf_idf_test = vectorizer.transform(X_test)"
   ]
  },
  {
   "cell_type": "markdown",
   "metadata": {},
   "source": [
    "**Handling Imbalanced Data**"
   ]
  },
  {
   "cell_type": "code",
   "execution_count": 16,
   "metadata": {
    "ExecuteTime": {
     "end_time": "2021-05-25T06:33:02.592053Z",
     "start_time": "2021-05-25T06:33:02.551161Z"
    }
   },
   "outputs": [],
   "source": [
    "rus = RandomOverSampler(random_state=777)\n",
    "\n",
    "X_train_bin, y_train_bin = rus.fit_sample(binary_train, y_train)"
   ]
  },
  {
   "cell_type": "code",
   "execution_count": 17,
   "metadata": {
    "ExecuteTime": {
     "end_time": "2021-05-25T06:33:04.641769Z",
     "start_time": "2021-05-25T06:33:04.602875Z"
    }
   },
   "outputs": [],
   "source": [
    "X_train_count, y_train_count = rus.fit_sample(count_train, y_train)"
   ]
  },
  {
   "cell_type": "code",
   "execution_count": 18,
   "metadata": {
    "ExecuteTime": {
     "end_time": "2021-05-25T06:33:07.457105Z",
     "start_time": "2021-05-25T06:33:07.403091Z"
    }
   },
   "outputs": [],
   "source": [
    "X_train_tf_idf, y_train_tf_idf = rus.fit_sample(tf_idf_train, y_train)"
   ]
  },
  {
   "cell_type": "markdown",
   "metadata": {},
   "source": [
    "**Modeling**"
   ]
  },
  {
   "cell_type": "markdown",
   "metadata": {},
   "source": [
    "**Logistic Regression**"
   ]
  },
  {
   "cell_type": "code",
   "execution_count": 25,
   "metadata": {
    "ExecuteTime": {
     "end_time": "2021-05-25T06:42:56.649147Z",
     "start_time": "2021-05-25T06:42:51.935937Z"
    }
   },
   "outputs": [
    {
     "name": "stdout",
     "output_type": "stream",
     "text": [
      "Positive precision: 0.9695162359178264\n",
      "Negative precision: 0.8913043478260869\n",
      "Accuracy test: 0.9557618787547788\n"
     ]
    }
   ],
   "source": [
    "lr = LogisticRegression(solver='liblinear')\n",
    "lr.fit(X_train_bin, y_train_bin)\n",
    "pred=lr.predict(binary_test)\n",
    "acc_lr_binary=metrics.accuracy_score(y_test, pred)\n",
    "tn, fp, fn, tp = confusion_matrix( y_test, pred).ravel()\n",
    "PP_lr_bin = tp / (tp + fp)\n",
    "NP_lr_bin = tn /(tn + fn)\n",
    "print(\"Positive precision:\",PP_lr_bin)\n",
    "print(\"Negative precision:\",NP_lr_bin)\n",
    "print(\"Accuracy test:\",acc_lr_binary)"
   ]
  },
  {
   "cell_type": "code",
   "execution_count": 27,
   "metadata": {
    "ExecuteTime": {
     "end_time": "2021-05-25T06:43:58.801108Z",
     "start_time": "2021-05-25T06:43:50.663570Z"
    }
   },
   "outputs": [
    {
     "name": "stdout",
     "output_type": "stream",
     "text": [
      "Positive precision: 0.9684605205116894\n",
      "Negative precision: 0.8925964546402503\n",
      "Accuracy test: 0.955215729109776\n"
     ]
    }
   ],
   "source": [
    "lr = LogisticRegression(solver='liblinear')\n",
    "lr.fit(X_train_count, y_train_count)\n",
    "pred=lr.predict(count_test)\n",
    "acc_lr_count=metrics.accuracy_score(y_test, pred)\n",
    "tn, fp, fn, tp = confusion_matrix( y_test, pred).ravel()\n",
    "PP_lr_count = tp / (tp + fp)\n",
    "NP_lr_count = tn /(tn + fn)\n",
    "print(\"Positive precision:\",PP_lr_count)\n",
    "print(\"Negative precision:\",NP_lr_count)\n",
    "print(\"Accuracy test:\",acc_lr_count)"
   ]
  },
  {
   "cell_type": "code",
   "execution_count": 28,
   "metadata": {
    "ExecuteTime": {
     "end_time": "2021-05-25T06:46:21.751752Z",
     "start_time": "2021-05-25T06:46:20.199907Z"
    }
   },
   "outputs": [
    {
     "name": "stdout",
     "output_type": "stream",
     "text": [
      "Positive precision: 0.9703277236492471\n",
      "Negative precision: 0.8853633572159673\n",
      "Accuracy test: 0.955215729109776\n"
     ]
    }
   ],
   "source": [
    "lr = LogisticRegression(solver='liblinear')\n",
    "lr.fit(X_train_tf_idf, y_train_tf_idf)\n",
    "pred=lr.predict(tf_idf_test)\n",
    "acc_lr_tf_idf=metrics.accuracy_score(y_test, pred)\n",
    "tn, fp, fn, tp = confusion_matrix( y_test, pred).ravel()\n",
    "PP_lr_tf_idf = tp / (tp + fp)\n",
    "NP_lr_tf_idf = tn /(tn + fn)\n",
    "print(\"Positive precision:\",PP_lr_tf_idf)\n",
    "print(\"Negative precision:\",NP_lr_tf_idf)\n",
    "print(\"Accuracy test:\",acc_lr_tf_idf)"
   ]
  },
  {
   "cell_type": "markdown",
   "metadata": {},
   "source": [
    "**SVM**"
   ]
  },
  {
   "cell_type": "markdown",
   "metadata": {},
   "source": [
    "binary 3-grams"
   ]
  },
  {
   "cell_type": "code",
   "execution_count": null,
   "metadata": {
    "ExecuteTime": {
     "end_time": "2021-05-25T06:13:56.449095Z",
     "start_time": "2021-05-25T06:13:26.288Z"
    }
   },
   "outputs": [],
   "source": [
    "accuracy = []\n",
    "regularization = [0.01, 0.05, 0.25, 0.5, 1]\n",
    "for c in regularization:\n",
    "    svc = LinearSVC(C=c)\n",
    "    svc.fit(X_train_bin, y_train_bin)\n",
    "    accuracy.append(accuracy_score(y_test, svc.predict(binary_test)))\n",
    "    print(\"Accuracy for C=%s: %s\"\n",
    "          % (c, accuracy_score(y_test, svc.predict(binary_test))))"
   ]
  },
  {
   "cell_type": "code",
   "execution_count": 30,
   "metadata": {
    "ExecuteTime": {
     "end_time": "2021-05-25T06:48:08.676018Z",
     "start_time": "2021-05-25T06:48:07.614716Z"
    }
   },
   "outputs": [
    {
     "name": "stdout",
     "output_type": "stream",
     "text": [
      "Positive precision: 0.9686741672181778\n",
      "Negative precision: 0.8927083333333333\n",
      "Accuracy test: 0.9553977789914436\n"
     ]
    }
   ],
   "source": [
    "#so we choose c = 0.01\n",
    "svc = LinearSVC(C=0.01)\n",
    "svc.fit(X_train_bin, y_train_bin)\n",
    "pred=svc.predict(binary_test)\n",
    "acc_svc_binary=metrics.accuracy_score(y_test, pred)\n",
    "tn, fp, fn, tp = confusion_matrix( y_test, pred).ravel()\n",
    "PP_svc_bin = tp / (tp + fp)\n",
    "NP_svc_bin = tn /(tn + fn)\n",
    "print(\"Positive precision:\",PP_svc_bin)\n",
    "print(\"Negative precision:\",NP_svc_bin)\n",
    "print(\"Accuracy test:\",acc_svc_binary)"
   ]
  },
  {
   "cell_type": "markdown",
   "metadata": {},
   "source": [
    "word-count 3-grams"
   ]
  },
  {
   "cell_type": "code",
   "execution_count": null,
   "metadata": {
    "ExecuteTime": {
     "end_time": "2021-05-25T06:13:56.454092Z",
     "start_time": "2021-05-25T06:13:26.347Z"
    }
   },
   "outputs": [],
   "source": [
    "accuracy = []\n",
    "regularization = [0.01, 0.05, 0.25, 0.5, 1]\n",
    "for c in regularization:\n",
    "    svc = LinearSVC(C=c)\n",
    "    svc.fit(X_train_count, y_train_count)\n",
    "    accuracy.append(accuracy_score(y_test, svc.predict(count_test)))\n",
    "    print(\"Accuracy for C=%s: %s\"\n",
    "          % (c, accuracy_score(y_test, svc.predict(count_test))))"
   ]
  },
  {
   "cell_type": "code",
   "execution_count": 31,
   "metadata": {
    "ExecuteTime": {
     "end_time": "2021-05-25T06:49:29.671541Z",
     "start_time": "2021-05-25T06:49:27.293837Z"
    }
   },
   "outputs": [
    {
     "name": "stdout",
     "output_type": "stream",
     "text": [
      "Positive precision: 0.9676068752754517\n",
      "Negative precision: 0.8921465968586387\n",
      "Accuracy test: 0.9544875295831058\n"
     ]
    }
   ],
   "source": [
    "#so we choose c = 0.01\n",
    "svc = LinearSVC(C=0.01)\n",
    "svc.fit(X_train_count, y_train_count)\n",
    "pred=svc.predict(count_test)\n",
    "acc_svc_count=metrics.accuracy_score(y_test, pred)\n",
    "tn, fp, fn, tp = confusion_matrix( y_test, pred).ravel()\n",
    "PP_svc_count = tp / (tp + fp)\n",
    "NP_svc_count = tn /(tn + fn)\n",
    "print(\"Positive precision:\",PP_svc_count)\n",
    "print(\"Negative precision:\",NP_svc_count)\n",
    "print(\"Accuracy test:\",acc_svc_count)"
   ]
  },
  {
   "cell_type": "markdown",
   "metadata": {},
   "source": [
    "tf-idf 3grams"
   ]
  },
  {
   "cell_type": "code",
   "execution_count": null,
   "metadata": {
    "ExecuteTime": {
     "end_time": "2021-05-25T06:13:56.460094Z",
     "start_time": "2021-05-25T06:13:26.417Z"
    }
   },
   "outputs": [],
   "source": [
    "accuracy = []\n",
    "regularization = [0.01, 0.05, 0.25, 0.5, 1]\n",
    "for c in regularization:\n",
    "    svc = LinearSVC(C=c)\n",
    "    svc.fit(X_train_tf_idf, y_train_tf_idf)\n",
    "    accuracy.append(accuracy_score(y_test, svc.predict(tf_idf_test)))\n",
    "    print(\"Accuracy for C=%s: %s\"\n",
    "          % (c, accuracy_score(y_test, svc.predict(tf_idf_test))))"
   ]
  },
  {
   "cell_type": "code",
   "execution_count": 32,
   "metadata": {
    "ExecuteTime": {
     "end_time": "2021-05-25T06:50:57.295011Z",
     "start_time": "2021-05-25T06:50:56.959822Z"
    }
   },
   "outputs": [
    {
     "name": "stdout",
     "output_type": "stream",
     "text": [
      "Positive precision: 0.9717275155832591\n",
      "Negative precision: 0.8711288711288712\n",
      "Accuracy test: 0.9533952302931004\n"
     ]
    }
   ],
   "source": [
    "#so we choose c = 0.05\n",
    "svc = LinearSVC(C=0.05)\n",
    "svc.fit(X_train_tf_idf, y_train_tf_idf)\n",
    "pred=svc.predict(tf_idf_test)\n",
    "acc_svc_tf_idf=metrics.accuracy_score(y_test, pred)\n",
    "tn, fp, fn, tp = confusion_matrix( y_test, pred).ravel()\n",
    "PP_svc_tf_idf = tp / (tp + fp)\n",
    "NP_svc_tf_idf = tn /(tn + fn)\n",
    "print(\"Positive precision:\",PP_svc_tf_idf)\n",
    "print(\"Negative precision:\",NP_svc_tf_idf)\n",
    "print(\"Accuracy test:\",acc_svc_tf_idf)"
   ]
  },
  {
   "cell_type": "markdown",
   "metadata": {},
   "source": [
    "**Naive-Bayes**"
   ]
  },
  {
   "cell_type": "markdown",
   "metadata": {
    "ExecuteTime": {
     "end_time": "2021-05-25T06:56:22.729584Z",
     "start_time": "2021-05-25T06:56:22.713595Z"
    }
   },
   "source": [
    "binary 3-grams"
   ]
  },
  {
   "cell_type": "code",
   "execution_count": 33,
   "metadata": {
    "ExecuteTime": {
     "end_time": "2021-05-25T06:51:33.303954Z",
     "start_time": "2021-05-25T06:51:33.094511Z"
    }
   },
   "outputs": [
    {
     "name": "stdout",
     "output_type": "stream",
     "text": [
      "Positive precision: 0.9524523452559435\n",
      "Negative precision: 0.9429611650485437\n",
      "Accuracy score: 0.9510285818314218\n"
     ]
    }
   ],
   "source": [
    "nb = MultinomialNB()\n",
    "nb.fit(X_train_bin, y_train_bin)\n",
    "pred = nb.predict(binary_test)\n",
    "acc_nb_bin = metrics.accuracy_score(y_test, pred)\n",
    "tn, fp, fn, tp = confusion_matrix( y_test, pred).ravel()\n",
    "PP_nb_bin = tp / (tp + fp)\n",
    "NP_nb_bin = tn /(tn + fn)\n",
    "print(\"Positive precision:\",PP_nb_bin)\n",
    "print(\"Negative precision:\",NP_nb_bin)\n",
    "print(\"Accuracy score:\" , acc_nb_bin)"
   ]
  },
  {
   "cell_type": "markdown",
   "metadata": {
    "ExecuteTime": {
     "end_time": "2021-05-25T06:58:36.709059Z",
     "start_time": "2021-05-25T06:58:36.704073Z"
    }
   },
   "source": [
    "word-count 3-grams"
   ]
  },
  {
   "cell_type": "code",
   "execution_count": 34,
   "metadata": {
    "ExecuteTime": {
     "end_time": "2021-05-25T06:52:41.590124Z",
     "start_time": "2021-05-25T06:52:41.444517Z"
    }
   },
   "outputs": [
    {
     "name": "stdout",
     "output_type": "stream",
     "text": [
      "Positive precision: 0.9504802561366061\n",
      "Negative precision: 0.9492574257425742\n",
      "Accuracy score: 0.9503003823047516\n"
     ]
    }
   ],
   "source": [
    "nb = MultinomialNB()\n",
    "nb.fit(X_train_count, y_train_count)\n",
    "pred = nb.predict(count_test)\n",
    "acc_nb_count = metrics.accuracy_score(y_test, pred)\n",
    "tn, fp, fn, tp = confusion_matrix( y_test, pred).ravel()\n",
    "PP_nb_count = tp / (tp + fp)\n",
    "NP_nb_count = tn /(tn + fn)\n",
    "print(\"Positive precision:\",PP_nb_count)\n",
    "print(\"Negative precision:\",NP_nb_count)\n",
    "print(\"Accuracy score:\" , acc_nb_count)"
   ]
  },
  {
   "cell_type": "code",
   "execution_count": 35,
   "metadata": {
    "ExecuteTime": {
     "end_time": "2021-05-25T06:53:27.484910Z",
     "start_time": "2021-05-25T06:53:27.353530Z"
    }
   },
   "outputs": [
    {
     "name": "stdout",
     "output_type": "stream",
     "text": [
      "Positive precision: 0.9826631350830725\n",
      "Negative precision: 0.6917910447761194\n",
      "Accuracy score: 0.9117058073912252\n"
     ]
    }
   ],
   "source": [
    "nb = MultinomialNB()\n",
    "nb.fit(X_train_tf_idf, y_train_tf_idf)\n",
    "pred = nb.predict(tf_idf_test)\n",
    "acc_nb_tf_idf = metrics.accuracy_score(y_test, pred)\n",
    "tn, fp, fn, tp = confusion_matrix( y_test, pred).ravel()\n",
    "PP_nb_tf_idf = tp / (tp + fp)\n",
    "NP_nb_tf_idf = tn /(tn + fn)\n",
    "print(\"Positive precision:\",PP_nb_tf_idf)\n",
    "print(\"Negative precision:\",NP_nb_tf_idf)\n",
    "print(\"Accuracy score:\" , acc_nb_tf_idf)"
   ]
  },
  {
   "cell_type": "markdown",
   "metadata": {},
   "source": [
    "**Random Forest Classifier**"
   ]
  },
  {
   "cell_type": "markdown",
   "metadata": {},
   "source": [
    "binary 3-grams"
   ]
  },
  {
   "cell_type": "code",
   "execution_count": 36,
   "metadata": {
    "ExecuteTime": {
     "end_time": "2021-05-25T06:55:11.895269Z",
     "start_time": "2021-05-25T06:55:05.134287Z"
    }
   },
   "outputs": [
    {
     "name": "stdout",
     "output_type": "stream",
     "text": [
      "Positive precision: 0.9455594002306805\n",
      "Negative precision: 0.6588946459412781\n",
      "Accuracy score: 0.885126524667759\n"
     ]
    }
   ],
   "source": [
    "rf = RandomForestClassifier(max_depth = 10)\n",
    "rf.fit(X_train_bin, y_train_bin)\n",
    "pred = rf.predict(binary_test)\n",
    "acc_rf_bin = metrics.accuracy_score(y_test, pred)\n",
    "tn, fp, fn, tp = confusion_matrix( y_test, pred).ravel()\n",
    "PP_rf_bin = tp / (tp + fp)\n",
    "NP_rf_bin = tn /(tn + fn)\n",
    "print(\"Positive precision:\",PP_rf_bin)\n",
    "print(\"Negative precision:\",NP_rf_bin)\n",
    "print(\"Accuracy score:\" , acc_rf_bin)"
   ]
  },
  {
   "cell_type": "markdown",
   "metadata": {},
   "source": [
    "word-count 3-grams"
   ]
  },
  {
   "cell_type": "code",
   "execution_count": 37,
   "metadata": {
    "ExecuteTime": {
     "end_time": "2021-05-25T06:55:52.739893Z",
     "start_time": "2021-05-25T06:55:46.065405Z"
    }
   },
   "outputs": [
    {
     "name": "stdout",
     "output_type": "stream",
     "text": [
      "Positive precision: 0.9530323757409941\n",
      "Negative precision: 0.7163504968383018\n",
      "Accuracy score: 0.90533406153286\n"
     ]
    }
   ],
   "source": [
    "rf = RandomForestClassifier(max_depth = 10)\n",
    "rf.fit(X_train_count , y_train_count)\n",
    "pred = rf.predict(count_test)\n",
    "acc_rf_count = metrics.accuracy_score(y_test, pred)\n",
    "tn, fp, fn, tp = confusion_matrix( y_test, pred).ravel()\n",
    "PP_rf_count = tp / (tp + fp)\n",
    "NP_rf_count = tn /(tn + fn)\n",
    "print(\"Positive precision:\",PP_rf_count)\n",
    "print(\"Negative precision:\",NP_rf_count)\n",
    "print(\"Accuracy score:\" , acc_rf_count)"
   ]
  },
  {
   "cell_type": "markdown",
   "metadata": {},
   "source": [
    "tf-idf 3grams"
   ]
  },
  {
   "cell_type": "code",
   "execution_count": 40,
   "metadata": {
    "ExecuteTime": {
     "end_time": "2021-05-25T07:01:39.376926Z",
     "start_time": "2021-05-25T07:01:31.943196Z"
    }
   },
   "outputs": [
    {
     "name": "stdout",
     "output_type": "stream",
     "text": [
      "Positive precision: 0.964993564993565\n",
      "Negative precision: 0.5366915422885572\n",
      "Accuracy score: 0.8396140542508648\n"
     ]
    }
   ],
   "source": [
    "rf = RandomForestClassifier(max_depth = 10)\n",
    "rf.fit(X_train_tf_idf, y_train_tf_idf)\n",
    "pred = rf.predict(tf_idf_test)\n",
    "acc_rf_tf_idf = metrics.accuracy_score(y_test, pred)\n",
    "tn, fp, fn, tp = confusion_matrix( y_test, pred).ravel()\n",
    "PP_rf_tf_idf = tp / (tp + fp)\n",
    "NP_rf_tf_idf = tn /(tn + fn)\n",
    "print(\"Positive precision:\",PP_rf_tf_idf)\n",
    "print(\"Negative precision:\",NP_rf_tf_idf)\n",
    "print(\"Accuracy score:\" , acc_rf_tf_idf)"
   ]
  },
  {
   "cell_type": "markdown",
   "metadata": {},
   "source": [
    "**Boosting**"
   ]
  },
  {
   "cell_type": "markdown",
   "metadata": {},
   "source": [
    "binary 3-grams"
   ]
  },
  {
   "cell_type": "code",
   "execution_count": 41,
   "metadata": {
    "ExecuteTime": {
     "end_time": "2021-05-25T07:05:37.830197Z",
     "start_time": "2021-05-25T07:02:28.713308Z"
    }
   },
   "outputs": [
    {
     "name": "stdout",
     "output_type": "stream",
     "text": [
      "Positive precision: 0.9576968272620446\n",
      "Negative precision: 0.6615508885298869\n",
      "Accuracy score: 0.8909521208811214\n"
     ]
    }
   ],
   "source": [
    "boosting = GradientBoostingClassifier(n_estimators=50,max_depth = 5)\n",
    "boosting.fit(X_train_bin, y_train_bin)\n",
    "pred = boosting.predict(binary_test)\n",
    "acc_boosting_bin = metrics.accuracy_score(y_test, pred)\n",
    "tn, fp, fn, tp = confusion_matrix( y_test, pred).ravel()\n",
    "PP_boosting_bin = tp / (tp + fp)\n",
    "NP_boosting_bin = tn /(tn + fn)\n",
    "print(\"Positive precision:\",PP_boosting_bin)\n",
    "print(\"Negative precision:\",NP_boosting_bin)\n",
    "print(\"Accuracy score:\" , acc_boosting_bin)"
   ]
  },
  {
   "cell_type": "markdown",
   "metadata": {},
   "source": [
    "word-count 3-grams"
   ]
  },
  {
   "cell_type": "code",
   "execution_count": 42,
   "metadata": {
    "ExecuteTime": {
     "end_time": "2021-05-25T07:08:52.840084Z",
     "start_time": "2021-05-25T07:05:38.388679Z"
    }
   },
   "outputs": [
    {
     "name": "stdout",
     "output_type": "stream",
     "text": [
      "Positive precision: 0.9587555974546311\n",
      "Negative precision: 0.6592\n",
      "Accuracy score: 0.8905880211177862\n"
     ]
    }
   ],
   "source": [
    "boosting = GradientBoostingClassifier(n_estimators=50,max_depth = 5)\n",
    "boosting.fit(X_train_count, y_train_count)\n",
    "pred = boosting.predict(count_test)\n",
    "acc_boosting_count = metrics.accuracy_score(y_test, pred)\n",
    "tn, fp, fn, tp = confusion_matrix( y_test, pred).ravel()\n",
    "PP_boosting_count = tp / (tp + fp)\n",
    "NP_boosting_count = tn /(tn + fn)\n",
    "print(\"Positive precision:\",PP_boosting_count)\n",
    "print(\"Negative precision:\",NP_boosting_count)\n",
    "print(\"Accuracy score:\" , acc_boosting_count)"
   ]
  },
  {
   "cell_type": "markdown",
   "metadata": {},
   "source": [
    "tf-idf 3grams"
   ]
  },
  {
   "cell_type": "code",
   "execution_count": 43,
   "metadata": {
    "ExecuteTime": {
     "end_time": "2021-05-25T07:13:00.673653Z",
     "start_time": "2021-05-25T07:08:53.461612Z"
    }
   },
   "outputs": [
    {
     "name": "stdout",
     "output_type": "stream",
     "text": [
      "Positive precision: 0.9735294117647059\n",
      "Negative precision: 0.513405590416429\n",
      "Accuracy score: 0.8266885126524668\n"
     ]
    }
   ],
   "source": [
    "boosting = GradientBoostingClassifier(n_estimators=50,max_depth = 5)\n",
    "boosting.fit(X_train_tf_idf, y_train_tf_idf)\n",
    "pred = boosting.predict(tf_idf_test)\n",
    "acc_boosting_tf_idf = metrics.accuracy_score(y_test, pred)\n",
    "tn, fp, fn, tp = confusion_matrix( y_test, pred).ravel()\n",
    "PP_boosting_tf_idf = tp / (tp + fp)\n",
    "NP_boosting_tf_idf = tn /(tn + fn)\n",
    "print(\"Positive precision:\",PP_boosting_tf_idf)\n",
    "print(\"Negative precision:\",NP_boosting_tf_idf)\n",
    "print(\"Accuracy score:\" , acc_boosting_tf_idf)"
   ]
  },
  {
   "cell_type": "markdown",
   "metadata": {},
   "source": [
    "**MLP**"
   ]
  },
  {
   "cell_type": "code",
   "execution_count": 45,
   "metadata": {
    "ExecuteTime": {
     "end_time": "2021-05-25T07:13:49.538874Z",
     "start_time": "2021-05-25T07:13:49.487905Z"
    }
   },
   "outputs": [],
   "source": [
    "from sklearn.neural_network import MLPClassifier"
   ]
  },
  {
   "cell_type": "markdown",
   "metadata": {},
   "source": [
    "binary 3-grams"
   ]
  },
  {
   "cell_type": "code",
   "execution_count": 50,
   "metadata": {
    "ExecuteTime": {
     "end_time": "2021-05-25T07:42:22.464898Z",
     "start_time": "2021-05-25T07:31:06.277414Z"
    }
   },
   "outputs": [
    {
     "name": "stdout",
     "output_type": "stream",
     "text": [
      "Iteration 1, loss = 0.67230554\n",
      "Validation score: 0.964151\n",
      "Iteration 2, loss = 0.43595161\n",
      "Validation score: 0.986792\n",
      "Iteration 3, loss = 0.21361819\n",
      "Validation score: 0.992453\n",
      "Iteration 4, loss = 0.13229972\n",
      "Validation score: 0.992453\n",
      "Iteration 5, loss = 0.09418054\n",
      "Validation score: 0.991038\n"
     ]
    },
    {
     "name": "stderr",
     "output_type": "stream",
     "text": [
      "C:\\Users\\panag\\anaconda3\\lib\\site-packages\\sklearn\\neural_network\\_multilayer_perceptron.py:614: ConvergenceWarning: Stochastic Optimizer: Maximum iterations (5) reached and the optimization hasn't converged yet.\n",
      "  warnings.warn(\n"
     ]
    },
    {
     "name": "stdout",
     "output_type": "stream",
     "text": [
      "Positive precision: 0.9536027367970922\n",
      "Negative precision: 0.9583333333333334\n",
      "Final Accuracy: 0.9543054797014382\n"
     ]
    }
   ],
   "source": [
    "final_model = MLPClassifier(hidden_layer_sizes=(30,20,10), activation='logistic',max_iter=5, early_stopping=True,verbose=True)\n",
    "final_model.fit(X_train_bin, y_train_bin)\n",
    "y_pred = final_model.predict(binary_test)\n",
    "tn, fp, fn, tp = confusion_matrix( y_test, y_pred).ravel()\n",
    "PP_MLP_bin = tp / (tp + fp)\n",
    "NP_MLP_bin = tn /(tn + fn)\n",
    "acc_mlp_bin = accuracy_score(y_test, y_pred)\n",
    "print(\"Positive precision:\",PP_MLP_bin)\n",
    "print(\"Negative precision:\",NP_MLP_bin)\n",
    "print(\"Final Accuracy:\", acc_mlp_bin)"
   ]
  },
  {
   "cell_type": "markdown",
   "metadata": {},
   "source": [
    "word-count 3-grams"
   ]
  },
  {
   "cell_type": "code",
   "execution_count": 51,
   "metadata": {
    "ExecuteTime": {
     "end_time": "2021-05-25T07:54:46.966536Z",
     "start_time": "2021-05-25T07:43:16.790286Z"
    }
   },
   "outputs": [
    {
     "name": "stdout",
     "output_type": "stream",
     "text": [
      "Iteration 1, loss = 0.63414958\n",
      "Validation score: 0.964151\n",
      "Iteration 2, loss = 0.31498245\n",
      "Validation score: 0.987264\n",
      "Iteration 3, loss = 0.14326507\n",
      "Validation score: 0.993868\n",
      "Iteration 4, loss = 0.08688754\n",
      "Validation score: 0.991509\n",
      "Iteration 5, loss = 0.06130748\n",
      "Validation score: 0.992453\n",
      "Positive precision: 0.952604611443211\n",
      "Negative precision: 0.9604449938195303\n",
      "Final Accuracy: 0.9537593300564354\n"
     ]
    },
    {
     "name": "stderr",
     "output_type": "stream",
     "text": [
      "C:\\Users\\panag\\anaconda3\\lib\\site-packages\\sklearn\\neural_network\\_multilayer_perceptron.py:614: ConvergenceWarning: Stochastic Optimizer: Maximum iterations (5) reached and the optimization hasn't converged yet.\n",
      "  warnings.warn(\n"
     ]
    }
   ],
   "source": [
    "final_model = MLPClassifier(hidden_layer_sizes=(30,20,10), activation='logistic',max_iter=5, early_stopping=True,verbose=True)\n",
    "final_model.fit(X_train_count, y_train_count)\n",
    "y_pred = final_model.predict(count_test)\n",
    "tn, fp, fn, tp = confusion_matrix( y_test, y_pred).ravel()\n",
    "PP_MLP_count = tp / (tp + fp)\n",
    "NP_MLP_count = tn /(tn + fn)\n",
    "acc_mlp_count = accuracy_score(y_test, y_pred)\n",
    "print(\"Positive precision:\",PP_MLP_count)\n",
    "print(\"Negative precision:\",NP_MLP_count)\n",
    "print(\"Final Accuracy:\", acc_mlp_count)"
   ]
  },
  {
   "cell_type": "markdown",
   "metadata": {},
   "source": [
    "tf-idf 3grams"
   ]
  },
  {
   "cell_type": "code",
   "execution_count": 53,
   "metadata": {
    "ExecuteTime": {
     "end_time": "2021-05-25T08:21:20.879153Z",
     "start_time": "2021-05-25T08:08:46.173547Z"
    }
   },
   "outputs": [
    {
     "name": "stdout",
     "output_type": "stream",
     "text": [
      "Iteration 1, loss = 0.69281863\n",
      "Validation score: 0.922642\n",
      "Iteration 2, loss = 0.68344464\n",
      "Validation score: 0.858962\n",
      "Iteration 3, loss = 0.51336001\n",
      "Validation score: 0.972170\n",
      "Iteration 4, loss = 0.22243866\n",
      "Validation score: 0.989151\n",
      "Iteration 5, loss = 0.12007973\n",
      "Validation score: 0.991038\n"
     ]
    },
    {
     "name": "stderr",
     "output_type": "stream",
     "text": [
      "C:\\Users\\panag\\anaconda3\\lib\\site-packages\\sklearn\\neural_network\\_multilayer_perceptron.py:614: ConvergenceWarning: Stochastic Optimizer: Maximum iterations (5) reached and the optimization hasn't converged yet.\n",
      "  warnings.warn(\n"
     ]
    },
    {
     "name": "stdout",
     "output_type": "stream",
     "text": [
      "Positive precision: 0.9481402763018066\n",
      "Negative precision: 0.9581218274111675\n",
      "Final Accuracy: 0.9495721827780812\n"
     ]
    }
   ],
   "source": [
    "final_model = MLPClassifier(hidden_layer_sizes=(30,20,10), activation='logistic',max_iter=5, early_stopping=True,verbose=True)\n",
    "final_model.fit(X_train_tf_idf, y_train_tf_idf)\n",
    "y_pred = final_model.predict(tf_idf_test)\n",
    "tn, fp, fn, tp = confusion_matrix( y_test, y_pred).ravel()\n",
    "PP_MLP_tf_idf = tp / (tp + fp)\n",
    "NP_MLP_tf_idf = tn /(tn + fn)\n",
    "acc_mlp_tf_idf = accuracy_score(y_test, y_pred)\n",
    "print(\"Positive precision:\",PP_MLP_tf_idf)\n",
    "print(\"Negative precision:\",NP_MLP_tf_idf)\n",
    "print(\"Final Accuracy:\", acc_mlp_tf_idf)"
   ]
  },
  {
   "cell_type": "markdown",
   "metadata": {},
   "source": [
    "**Plots**"
   ]
  },
  {
   "cell_type": "code",
   "execution_count": 75,
   "metadata": {
    "ExecuteTime": {
     "end_time": "2021-05-25T08:36:22.105274Z",
     "start_time": "2021-05-25T08:36:21.813396Z"
    }
   },
   "outputs": [
    {
     "data": {
      "image/png": "[encoded data removed]",
      "text/plain": [
       "<Figure size 864x360 with 1 Axes>"
      ]
     },
     "metadata": {
      "needs_background": "light"
     },
     "output_type": "display_data"
    }
   ],
   "source": [
    "X = ['Logistic Regression','SVM','Naive Bayes','Random Forest','Boosting','MLP']\n",
    "Accuracy_bin = [acc_lr_binary*100,acc_svc_binary*100,acc_nb_bin*100,acc_rf_bin*100,acc_boosting_bin*100,acc_mlp_bin*100]\n",
    "Accuracy_count = [acc_lr_count*100,acc_svc_count*100,acc_nb_count*100,acc_rf_count*100,acc_boosting_count*100,acc_mlp_count*100]\n",
    "Accuracy_tf_idf = [acc_lr_tf_idf*100,acc_svc_tf_idf*100,acc_nb_tf_idf*100,acc_rf_tf_idf*100,acc_boosting_tf_idf*100,acc_mlp_tf_idf*100]\n",
    "\n",
    "X_axis = np.arange(len(X))\n",
    "  \n",
    "plt.figure(figsize=(12,5))\n",
    "\n",
    "plt.bar(X_axis - 0.2, Accuracy_bin, 0.2 , label = 'Binary')\n",
    "plt.bar(X_axis , Accuracy_count, 0.2 , label = 'Count')\n",
    "plt.bar(X_axis + 0.2 , Accuracy_tf_idf, 0.2 , label = 'Tf-Idf')\n",
    "\n",
    "plt.xticks(X_axis, X)\n",
    "plt.xlabel(\"Algorithms\")\n",
    "plt.ylabel(\"Accuracy (%)\")\n",
    "plt.title(\"Accuracy Plots\")\n",
    "plt.legend()\n",
    "plt.show()"
   ]
  },
  {
   "cell_type": "code",
   "execution_count": 77,
   "metadata": {
    "ExecuteTime": {
     "end_time": "2021-05-25T08:38:22.661607Z",
     "start_time": "2021-05-25T08:38:22.362726Z"
    }
   },
   "outputs": [
    {
     "data": {
      "image/png": "[encoded data removed]",
      "text/plain": [
       "<Figure size 864x360 with 1 Axes>"
      ]
     },
     "metadata": {
      "needs_background": "light"
     },
     "output_type": "display_data"
    }
   ],
   "source": [
    "X = ['Logistic Regression','SVM','Naive Bayes','Random Forest','Boosting','MLP']\n",
    "PP_bin = [PP_lr_bin*100,PP_svc_bin*100,PP_nb_bin*100,PP_rf_bin*100,PP_boosting_bin*100,PP_MLP_bin*100]\n",
    "PP_count = [PP_lr_count*100,PP_svc_count*100,PP_nb_count*100,PP_rf_count*100,PP_boosting_count*100,PP_MLP_count*100]\n",
    "PP_tf_idf = [PP_lr_tf_idf*100,PP_svc_tf_idf*100,PP_nb_tf_idf*100,PP_rf_tf_idf*100,PP_boosting_tf_idf*100,PP_MLP_tf_idf*100]\n",
    "\n",
    "X_axis = np.arange(len(X))\n",
    "  \n",
    "plt.figure(figsize=(12,5))\n",
    "\n",
    "plt.bar(X_axis - 0.2, PP_bin, 0.2 , label = 'Binary')\n",
    "plt.bar(X_axis , PP_count, 0.2 , label = 'Count')\n",
    "plt.bar(X_axis + 0.2 , PP_tf_idf, 0.2 , label = 'Tf-Idf')\n",
    "\n",
    "plt.xticks(X_axis, X)\n",
    "plt.xlabel(\"Algorithms\")\n",
    "plt.ylabel(\"Accuracy (%)\")\n",
    "plt.title(\"Positive Precision Plots\")\n",
    "plt.legend()\n",
    "plt.show()"
   ]
  },
  {
   "cell_type": "code",
   "execution_count": 78,
   "metadata": {
    "ExecuteTime": {
     "end_time": "2021-05-25T08:39:54.640605Z",
     "start_time": "2021-05-25T08:39:54.287933Z"
    }
   },
   "outputs": [
    {
     "data": {
      "image/png": "[encoded data removed]",
      "text/plain": [
       "<Figure size 864x360 with 1 Axes>"
      ]
     },
     "metadata": {
      "needs_background": "light"
     },
     "output_type": "display_data"
    }
   ],
   "source": [
    "X = ['Logistic Regression','SVM','Naive Bayes','Random Forest','Boosting','MLP']\n",
    "NP_bin = [NP_lr_bin*100,NP_svc_bin*100,NP_nb_bin*100,NP_rf_bin*100,NP_boosting_bin*100,NP_MLP_bin*100]\n",
    "NP_count = [NP_lr_count*100,NP_svc_count*100,NP_nb_count*100,NP_rf_count*100,NP_boosting_count*100,NP_MLP_count*100]\n",
    "NP_tf_idf = [NP_lr_tf_idf*100,NP_svc_tf_idf*100,NP_nb_tf_idf*100,NP_rf_tf_idf*100,NP_boosting_tf_idf*100,NP_MLP_tf_idf*100]\n",
    "\n",
    "X_axis = np.arange(len(X))\n",
    "  \n",
    "plt.figure(figsize=(12,5))\n",
    "\n",
    "plt.bar(X_axis - 0.2, NP_bin, 0.2 , label = 'Binary')\n",
    "plt.bar(X_axis , NP_count, 0.2 , label = 'Count')\n",
    "plt.bar(X_axis + 0.2 , NP_tf_idf, 0.2 , label = 'Tf-Idf')\n",
    "\n",
    "plt.xticks(X_axis, X)\n",
    "plt.xlabel(\"Algorithms\")\n",
    "plt.ylabel(\"Accuracy (%)\")\n",
    "plt.title(\"Negative Precision Plots\")\n",
    "plt.legend()\n",
    "plt.show()"
   ]
  }
 ],
 "metadata": {
  "kernelspec": {
   "display_name": "Python 3",
   "language": "python",
   "name": "python3"
  },
  "language_info": {
   "codemirror_mode": {
    "name": "ipython",
    "version": 3
   },
   "file_extension": ".py",
   "mimetype": "text/x-python",
   "name": "python",
   "nbconvert_exporter": "python",
   "pygments_lexer": "ipython3",
   "version": "3.8.5"
  },
  "latex_envs": {
   "LaTeX_envs_menu_present": true,
   "autoclose": false,
   "autocomplete": true,
   "bibliofile": "biblio.bib",
   "cite_by": "apalike",
   "current_citInitial": 1,
   "eqLabelWithNumbers": true,
   "eqNumInitial": 1,
   "hotkeys": {
    "equation": "Ctrl-E",
    "itemize": "Ctrl-I"
   },
   "labels_anchors": false,
   "latex_user_defs": false,
   "report_style_numbering": false,
   "user_envs_cfg": false
  },
  "toc": {
   "base_numbering": 1,
   "nav_menu": {},
   "number_sections": true,
   "sideBar": true,
   "skip_h1_title": false,
   "title_cell": "Table of Contents",
   "title_sidebar": "Contents",
   "toc_cell": false,
   "toc_position": {},
   "toc_section_display": true,
   "toc_window_display": false
  },
  "varInspector": {
   "cols": {
    "lenName": 16,
    "lenType": 16,
    "lenVar": 40
   },
   "kernels_config": {
    "python": {
     "delete_cmd_postfix": "",
     "delete_cmd_prefix": "del ",
     "library": "var_list.py",
     "varRefreshCmd": "print(var_dic_list())"
    },
    "r": {
     "delete_cmd_postfix": ") ",
     "delete_cmd_prefix": "rm(",
     "library": "var_list.r",
     "varRefreshCmd": "cat(var_dic_list()) "
    }
   },
   "types_to_exclude": [
    "module",
    "function",
    "builtin_function_or_method",
    "instance",
    "_Feature"
   ],
   "window_display": false
  }
 },
 "nbformat": 4,
 "nbformat_minor": 4
}
